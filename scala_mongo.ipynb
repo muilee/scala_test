{
 "cells": [
  {
   "cell_type": "code",
   "execution_count": 0,
   "metadata": {},
   "outputs": [
    {
     "name": "stderr",
     "output_type": "stream",
     "text": [
      "cmd0.sc:1: object mongodb is not a member of package com\n",
      "import com.mongodb.casbah.Imports._\n",
      "           ^cmd0.sc:3: not found: value MongoClient\n",
      "val client = MongoClient(\"127.0.0.1\", 27017)\n",
      "             ^"
     ]
    },
    {
     "ename": "",
     "evalue": "",
     "output_type": "error",
     "traceback": [
      "Compilation Failed"
     ]
    }
   ],
   "source": [
    "import com.mongodb.casbah.Imports._\n",
    "\n",
    "val client = MongoClient(\"127.0.0.1\", 27017)\n",
    "val db = client(\"fb\")\n",
    "val collection = db(\"kp_posts\")"
   ]
  },
  {
   "cell_type": "code",
   "execution_count": 15,
   "metadata": {},
   "outputs": [
    {
     "name": "stderr",
     "output_type": "stream",
     "text": [
      "cmd15.sc:4: not found: value <\n",
      "  case a < 5 => println(\"a < 5\")\n",
      "         ^"
     ]
    },
    {
     "ename": "",
     "evalue": "",
     "output_type": "error",
     "traceback": [
      "Compilation Failed"
     ]
    }
   ],
   "source": [
    "val a = 5\n",
    "\n",
    "a match {\n",
    "  case a < 5 => println(\"a < 5\")\n",
    "\n",
    "}"
   ]
  },
  {
   "cell_type": "code",
   "execution_count": null,
   "metadata": {},
   "outputs": [],
   "source": []
  },
  {
   "cell_type": "code",
   "execution_count": null,
   "metadata": {
    "collapsed": true
   },
   "outputs": [],
   "source": []
  }
 ],
 "metadata": {
  "kernelspec": {
   "display_name": "Scala",
   "language": "scala",
   "name": "scala"
  },
  "language_info": {
   "codemirror_mode": "text/x-scala",
   "file_extension": ".scala",
   "mimetype": "text/x-scala",
   "name": "scala211",
   "nbconvert_exporter": "script",
   "pygments_lexer": "scala",
   "version": "2.11.11"
  }
 },
 "nbformat": 4,
 "nbformat_minor": 2
}
