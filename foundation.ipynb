{
 "cells": [
  {
   "cell_type": "markdown",
   "metadata": {},
   "source": [
    "# List"
   ]
  },
  {
   "cell_type": "code",
   "execution_count": 4,
   "metadata": {
    "scrolled": true
   },
   "outputs": [
    {
     "name": "stdout",
     "output_type": "stream",
     "text": [
      "104, 106, 108, "
     ]
    },
    {
     "data": {
      "text/plain": [
       "\u001b[36ml\u001b[39m: \u001b[32mList\u001b[39m[\u001b[32mInt\u001b[39m] = \u001b[33mList\u001b[39m(\u001b[32m1\u001b[39m, \u001b[32m2\u001b[39m, \u001b[32m3\u001b[39m, \u001b[32m4\u001b[39m, \u001b[32m5\u001b[39m, \u001b[32m6\u001b[39m, \u001b[32m7\u001b[39m, \u001b[32m8\u001b[39m, \u001b[32m9\u001b[39m)\n",
       "\u001b[36mx\u001b[39m: \u001b[32mList\u001b[39m[\u001b[32mInt\u001b[39m] = \u001b[33mList\u001b[39m(\u001b[32m104\u001b[39m, \u001b[32m106\u001b[39m, \u001b[32m108\u001b[39m)"
      ]
     },
     "execution_count": 4,
     "metadata": {},
     "output_type": "execute_result"
    }
   ],
   "source": [
    "var l = List(1,2,3,4,5,6,7,8,9)\n",
    "\n",
    "val x = for(a <- l if a % 2 == 0; if a != 2) yield a+100\n",
    "x.foreach(x => print(x + \", \"))"
   ]
  },
  {
   "cell_type": "markdown",
   "metadata": {},
   "source": [
    "# function"
   ]
  },
  {
   "cell_type": "code",
   "execution_count": 11,
   "metadata": {},
   "outputs": [
    {
     "name": "stdout",
     "output_type": "stream",
     "text": [
      "Arg value[0] is Hello\n",
      "Arg value[1] is Scala\n",
      "Arg value[2] is Python\n"
     ]
    },
    {
     "data": {
      "text/plain": [
       "defined \u001b[32mfunction\u001b[39m \u001b[36mprintStrings\u001b[39m"
      ]
     },
     "execution_count": 11,
     "metadata": {},
     "output_type": "execute_result"
    }
   ],
   "source": [
    "def printStrings(args:String*) = {\n",
    "    var i: Int = 0\n",
    "    \n",
    "    for(arg <- args){\n",
    "        println(s\"Arg value[${i}] is ${arg}\")\n",
    "        i += 1\n",
    "    }\n",
    "}\n",
    "\n",
    "printStrings(\"Hello\", \"Scala\", \"Python\")"
   ]
  },
  {
   "cell_type": "code",
   "execution_count": 15,
   "metadata": {},
   "outputs": [
    {
     "name": "stdout",
     "output_type": "stream",
     "text": [
      "10\n"
     ]
    },
    {
     "data": {
      "text/plain": [
       "defined \u001b[32mfunction\u001b[39m \u001b[36mapply\u001b[39m\n",
       "defined \u001b[32mfunction\u001b[39m \u001b[36mlayout\u001b[39m"
      ]
     },
     "execution_count": 15,
     "metadata": {},
     "output_type": "execute_result"
    }
   ],
   "source": [
    "def apply(f: Int => String, v: Int) = f(v)\n",
    "\n",
    "def layout[C](x:C) = x.toString()\n",
    "\n",
    "println(apply(layout, 10))"
   ]
  },
  {
   "cell_type": "code",
   "execution_count": 16,
   "metadata": {},
   "outputs": [
    {
     "name": "stdout",
     "output_type": "stream",
     "text": [
      "1\n",
      "1\n",
      "2\n",
      "6\n"
     ]
    },
    {
     "data": {
      "text/plain": [
       "defined \u001b[32mfunction\u001b[39m \u001b[36mfactorial\u001b[39m"
      ]
     },
     "execution_count": 16,
     "metadata": {},
     "output_type": "execute_result"
    }
   ],
   "source": [
    "def factorial(i: Int): Int = {\n",
    "    def fact(i: Int, accumulator: Int): Int = {\n",
    "        if(i <= 1){\n",
    "            accumulator\n",
    "        }else{\n",
    "            fact(i - 1, i * accumulator)\n",
    "        }\n",
    "    }\n",
    "    fact(i, 1)\n",
    "}\n",
    "\n",
    "println( factorial(0) )\n",
    "println( factorial(1) )\n",
    "println( factorial(2) )\n",
    "println( factorial(3) )"
   ]
  },
  {
   "cell_type": "code",
   "execution_count": 17,
   "metadata": {},
   "outputs": [
    {
     "name": "stdout",
     "output_type": "stream",
     "text": [
      "Mon Dec 11 06:46:30 EST 2017---message1\n",
      "Mon Dec 11 06:46:30 EST 2017---message2\n",
      "Mon Dec 11 06:46:30 EST 2017---message3\n"
     ]
    },
    {
     "data": {
      "text/plain": [
       "\u001b[32mimport \u001b[39m\u001b[36mjava.util.Date\n",
       "\n",
       "\u001b[39m\n",
       "defined \u001b[32mfunction\u001b[39m \u001b[36mlog\u001b[39m\n",
       "\u001b[36mdate\u001b[39m: \u001b[32mjava\u001b[39m.\u001b[32mutil\u001b[39m.\u001b[32mDate\u001b[39m = Mon Dec 11 06:46:30 EST 2017\n",
       "\u001b[36mlogWithDateBound\u001b[39m: \u001b[32mString\u001b[39m => \u001b[32mUnit\u001b[39m = <function1>"
      ]
     },
     "execution_count": 17,
     "metadata": {},
     "output_type": "execute_result"
    }
   ],
   "source": [
    "import java.util.Date\n",
    "\n",
    "def log(date: Date, message: String) = {\n",
    "    println(date + \"---\" + message)\n",
    "}\n",
    "\n",
    "val date = new Date\n",
    "val logWithDateBound = log(date, _ : String)\n",
    "\n",
    "logWithDateBound(\"message1\")\n",
    "Thread.sleep(1000)\n",
    "\n",
    "logWithDateBound(\"message2\")\n",
    "Thread.sleep(1000)\n",
    "\n",
    "logWithDateBound(\"message3\")\n",
    "Thread.sleep(1000)"
   ]
  },
  {
   "cell_type": "code",
   "execution_count": 20,
   "metadata": {},
   "outputs": [
    {
     "name": "stdout",
     "output_type": "stream",
     "text": [
      "foobar"
     ]
    },
    {
     "data": {
      "text/plain": [
       "defined \u001b[32mfunction\u001b[39m \u001b[36mstrcat\u001b[39m"
      ]
     },
     "execution_count": 20,
     "metadata": {},
     "output_type": "execute_result"
    }
   ],
   "source": [
    "// def strcat(s1: String)(s2: String) = s1 + s2\n",
    "def strcat(s1: String) = (s2: String) => s1 + s2\n",
    "\n",
    "print(strcat(\"foo\")(\"bar\"))"
   ]
  },
  {
   "cell_type": "markdown",
   "metadata": {},
   "source": [
    "# Array"
   ]
  },
  {
   "cell_type": "code",
   "execution_count": 33,
   "metadata": {},
   "outputs": [
    {
     "data": {
      "text/plain": [
       "\u001b[36mz\u001b[39m: \u001b[32mArray\u001b[39m[\u001b[32mString\u001b[39m] = \u001b[33mArray\u001b[39m(\u001b[32m\"Zara\"\u001b[39m, \u001b[32m\"Nuha\"\u001b[39m, \u001b[32m\"Ayan\"\u001b[39m)"
      ]
     },
     "execution_count": 33,
     "metadata": {},
     "output_type": "execute_result"
    }
   ],
   "source": [
    "var z: Array[String] = new Array[String](3)\n",
    "z(0) = \"Zara\"; z(1) = \"Nuha\"; z(2) = \"Ayan\""
   ]
  },
  {
   "cell_type": "code",
   "execution_count": 34,
   "metadata": {},
   "outputs": [
    {
     "name": "stdout",
     "output_type": "stream",
     "text": [
      "1.9\n",
      "2.9\n",
      "3.9\n",
      "4.9\n",
      "5.9\n"
     ]
    },
    {
     "data": {
      "text/plain": [
       "\u001b[36mmyList\u001b[39m: \u001b[32mArray\u001b[39m[\u001b[32mDouble\u001b[39m] = \u001b[33mArray\u001b[39m(\u001b[32m1.9\u001b[39m, \u001b[32m2.9\u001b[39m, \u001b[32m3.9\u001b[39m, \u001b[32m4.9\u001b[39m, \u001b[32m5.9\u001b[39m)"
      ]
     },
     "execution_count": 34,
     "metadata": {},
     "output_type": "execute_result"
    }
   ],
   "source": [
    "var myList = Array(1.9,2.9,3.9,4.9,5.9)\n",
    "for(x <- myList){\n",
    "    println(x)\n",
    "}"
   ]
  },
  {
   "cell_type": "code",
   "execution_count": 36,
   "metadata": {},
   "outputs": [
    {
     "name": "stdout",
     "output_type": "stream",
     "text": [
      "19.5"
     ]
    },
    {
     "data": {
      "text/plain": [
       "\u001b[36mtotal\u001b[39m: \u001b[32mDouble\u001b[39m = \u001b[32m19.5\u001b[39m"
      ]
     },
     "execution_count": 36,
     "metadata": {},
     "output_type": "execute_result"
    }
   ],
   "source": [
    "var total = 0.0\n",
    "\n",
    "for(i <- 0 to myList.length - 1){\n",
    "    total += myList(i)\n",
    "}\n",
    "print(total)"
   ]
  },
  {
   "cell_type": "code",
   "execution_count": 39,
   "metadata": {},
   "outputs": [
    {
     "name": "stdout",
     "output_type": "stream",
     "text": [
      "5.9"
     ]
    },
    {
     "data": {
      "text/plain": [
       "\u001b[36mmax\u001b[39m: \u001b[32mDouble\u001b[39m = \u001b[32m5.9\u001b[39m"
      ]
     },
     "execution_count": 39,
     "metadata": {},
     "output_type": "execute_result"
    }
   ],
   "source": [
    "var max = myList(0)\n",
    "\n",
    "for(i <- 1 to myList.length - 1){\n",
    "    if(myList(i) > max){\n",
    "        max = myList(i)\n",
    "    }\n",
    "}\n",
    "print(max)"
   ]
  },
  {
   "cell_type": "code",
   "execution_count": 44,
   "metadata": {
    "scrolled": true
   },
   "outputs": [
    {
     "name": "stdout",
     "output_type": "stream",
     "text": [
      "012012012"
     ]
    },
    {
     "data": {
      "text/plain": [
       "\u001b[32mimport \u001b[39m\u001b[36mArray._\n",
       "\n",
       "\u001b[39m\n",
       "\u001b[36mmyMatrix\u001b[39m: \u001b[32mArray\u001b[39m[\u001b[32mArray\u001b[39m[\u001b[32mInt\u001b[39m]] = \u001b[33mArray\u001b[39m(\u001b[33mArray\u001b[39m(\u001b[32m0\u001b[39m, \u001b[32m1\u001b[39m, \u001b[32m2\u001b[39m), \u001b[33mArray\u001b[39m(\u001b[32m0\u001b[39m, \u001b[32m1\u001b[39m, \u001b[32m2\u001b[39m), \u001b[33mArray\u001b[39m(\u001b[32m0\u001b[39m, \u001b[32m1\u001b[39m, \u001b[32m2\u001b[39m))"
      ]
     },
     "execution_count": 44,
     "metadata": {},
     "output_type": "execute_result"
    }
   ],
   "source": [
    "import Array._\n",
    "\n",
    "var myMatrix = ofDim[Int](3,3)\n",
    "\n",
    "for(i <- 0 to 2; j <- 0 to 2){\n",
    "    myMatrix(i)(j) = j\n",
    "}\n",
    "\n",
    "for(i <- 0 to 2; j <- 0 to 2){\n",
    "    print(myMatrix(i)(j))\n",
    "}"
   ]
  },
  {
   "cell_type": "markdown",
   "metadata": {},
   "source": [
    "# collection"
   ]
  },
  {
   "cell_type": "code",
   "execution_count": 78,
   "metadata": {},
   "outputs": [
    {
     "name": "stdout",
     "output_type": "stream",
     "text": [
      "Head of fruit : apples\n",
      "Tail of fruit : List(oranges, pears)\n",
      "Check if fruit is empty : false\n",
      "Check if nums is empty : true\n"
     ]
    },
    {
     "data": {
      "text/plain": [
       "\u001b[36mfruit\u001b[39m: \u001b[32mList\u001b[39m[\u001b[32mString\u001b[39m] = \u001b[33mList\u001b[39m(\u001b[32m\"apples\"\u001b[39m, \u001b[32m\"oranges\"\u001b[39m, \u001b[32m\"pears\"\u001b[39m)\n",
       "\u001b[36mnums\u001b[39m: \u001b[32mNil\u001b[39m.type = \u001b[33mList\u001b[39m()"
      ]
     },
     "execution_count": 78,
     "metadata": {},
     "output_type": "execute_result"
    }
   ],
   "source": [
    "val fruit = \"apples\"::\"oranges\"::\"pears\"::Nil\n",
    "val nums = Nil\n",
    "\n",
    "println( \"Head of fruit : \" + fruit.head )\n",
    "println( \"Tail of fruit : \" + fruit.tail )\n",
    "println( \"Check if fruit is empty : \" + fruit.isEmpty )\n",
    "println( \"Check if nums is empty : \" + nums.isEmpty )"
   ]
  },
  {
   "cell_type": "code",
   "execution_count": 53,
   "metadata": {},
   "outputs": [
    {
     "name": "stdout",
     "output_type": "stream",
     "text": [
      "fruit1 ::: fruit2 : List(apples, oranges, pears, mangoes, banana)\n",
      "fruit1.:::(fruit2) : List(mangoes, banana, apples, oranges, pears)\n",
      "List.concat(fruit1, fruit2) : List(apples, oranges, pears, mangoes, banana)\n"
     ]
    },
    {
     "data": {
      "text/plain": [
       "\u001b[36mfruit1\u001b[39m: \u001b[32mList\u001b[39m[\u001b[32mString\u001b[39m] = \u001b[33mList\u001b[39m(\u001b[32m\"apples\"\u001b[39m, \u001b[32m\"oranges\"\u001b[39m, \u001b[32m\"pears\"\u001b[39m)\n",
       "\u001b[36mfruit2\u001b[39m: \u001b[32mList\u001b[39m[\u001b[32mString\u001b[39m] = \u001b[33mList\u001b[39m(\u001b[32m\"mangoes\"\u001b[39m, \u001b[32m\"banana\"\u001b[39m)\n",
       "\u001b[36mfruit\u001b[39m: \u001b[32mList\u001b[39m[\u001b[32mString\u001b[39m] = \u001b[33mList\u001b[39m(\u001b[32m\"apples\"\u001b[39m, \u001b[32m\"oranges\"\u001b[39m, \u001b[32m\"pears\"\u001b[39m, \u001b[32m\"mangoes\"\u001b[39m, \u001b[32m\"banana\"\u001b[39m)"
      ]
     },
     "execution_count": 53,
     "metadata": {},
     "output_type": "execute_result"
    }
   ],
   "source": [
    "val fruit1 = \"apples\"::(\"oranges\"::(\"pears\"::Nil))\n",
    "val fruit2 = \"mangoes\"::(\"banana\"::Nil)\n",
    "\n",
    " var fruit = fruit1 ::: fruit2\n",
    "println( \"fruit1 ::: fruit2 : \" + fruit )\n",
    "\n",
    "// use two lists with Set.:::() method\n",
    "fruit = fruit1.:::(fruit2)\n",
    "println( \"fruit1.:::(fruit2) : \" + fruit )\n",
    "\n",
    "// pass two or more lists as arguments\n",
    "fruit = List.concat(fruit1, fruit2)\n",
    "println( \"List.concat(fruit1, fruit2) : \" + fruit  )"
   ]
  },
  {
   "cell_type": "code",
   "execution_count": 55,
   "metadata": {},
   "outputs": [
    {
     "name": "stdout",
     "output_type": "stream",
     "text": [
      "List(apple, apple, apple)\n",
      "List(2, 2, 2, 2, 2, 2, 2, 2, 2, 2)\n"
     ]
    },
    {
     "data": {
      "text/plain": [
       "\u001b[36mfruit\u001b[39m: \u001b[32mList\u001b[39m[\u001b[32mString\u001b[39m] = \u001b[33mList\u001b[39m(\u001b[32m\"apple\"\u001b[39m, \u001b[32m\"apple\"\u001b[39m, \u001b[32m\"apple\"\u001b[39m)\n",
       "\u001b[36mnum\u001b[39m: \u001b[32mList\u001b[39m[\u001b[32mInt\u001b[39m] = \u001b[33mList\u001b[39m(\u001b[32m2\u001b[39m, \u001b[32m2\u001b[39m, \u001b[32m2\u001b[39m, \u001b[32m2\u001b[39m, \u001b[32m2\u001b[39m, \u001b[32m2\u001b[39m, \u001b[32m2\u001b[39m, \u001b[32m2\u001b[39m, \u001b[32m2\u001b[39m, \u001b[32m2\u001b[39m)"
      ]
     },
     "execution_count": 55,
     "metadata": {},
     "output_type": "execute_result"
    }
   ],
   "source": [
    "val fruit = List.fill(3)(\"apple\")\n",
    "val num = List.fill(10)(2)\n",
    "println(fruit)\n",
    "println(num)"
   ]
  },
  {
   "cell_type": "code",
   "execution_count": 63,
   "metadata": {},
   "outputs": [
    {
     "data": {
      "text/plain": [
       "\u001b[36msquares\u001b[39m: \u001b[32mList\u001b[39m[\u001b[32mInt\u001b[39m] = \u001b[33mList\u001b[39m(\u001b[32m0\u001b[39m, \u001b[32m1\u001b[39m, \u001b[32m4\u001b[39m, \u001b[32m9\u001b[39m, \u001b[32m16\u001b[39m, \u001b[32m25\u001b[39m)\n",
       "\u001b[36mmul\u001b[39m: \u001b[32mList\u001b[39m[\u001b[32mList\u001b[39m[\u001b[32mInt\u001b[39m]] = \u001b[33mList\u001b[39m(\n",
       "  \u001b[33mList\u001b[39m(\u001b[32m0\u001b[39m, \u001b[32m0\u001b[39m, \u001b[32m0\u001b[39m, \u001b[32m0\u001b[39m, \u001b[32m0\u001b[39m),\n",
       "  \u001b[33mList\u001b[39m(\u001b[32m0\u001b[39m, \u001b[32m1\u001b[39m, \u001b[32m2\u001b[39m, \u001b[32m3\u001b[39m, \u001b[32m4\u001b[39m),\n",
       "  \u001b[33mList\u001b[39m(\u001b[32m0\u001b[39m, \u001b[32m2\u001b[39m, \u001b[32m4\u001b[39m, \u001b[32m6\u001b[39m, \u001b[32m8\u001b[39m),\n",
       "  \u001b[33mList\u001b[39m(\u001b[32m0\u001b[39m, \u001b[32m3\u001b[39m, \u001b[32m6\u001b[39m, \u001b[32m9\u001b[39m, \u001b[32m12\u001b[39m)\n",
       ")"
      ]
     },
     "execution_count": 63,
     "metadata": {},
     "output_type": "execute_result"
    }
   ],
   "source": [
    "val squares = List.tabulate(6)(x => x * x)\n",
    "val mul = List.tabulate( 4,5 )( _ * _ )"
   ]
  },
  {
   "cell_type": "code",
   "execution_count": 64,
   "metadata": {},
   "outputs": [
    {
     "name": "stdout",
     "output_type": "stream",
     "text": [
      "Before reverse fruit : List(apples, oranges, pears)\n",
      "After reverse fruit : List(pears, oranges, apples)\n"
     ]
    },
    {
     "data": {
      "text/plain": [
       "\u001b[36mfruit\u001b[39m: \u001b[32mList\u001b[39m[\u001b[32mString\u001b[39m] = \u001b[33mList\u001b[39m(\u001b[32m\"apples\"\u001b[39m, \u001b[32m\"oranges\"\u001b[39m, \u001b[32m\"pears\"\u001b[39m)"
      ]
     },
     "execution_count": 64,
     "metadata": {},
     "output_type": "execute_result"
    }
   ],
   "source": [
    "val fruit = \"apples\"::(\"oranges\"::(\"pears\"::Nil))\n",
    "\n",
    "println( \"Before reverse fruit : \" + fruit )\n",
    "println( \"After reverse fruit : \" + fruit.reverse )"
   ]
  },
  {
   "cell_type": "code",
   "execution_count": 68,
   "metadata": {},
   "outputs": [
    {
     "name": "stdout",
     "output_type": "stream",
     "text": [
      "Head of fruit : apples\n",
      "Tail of fruit : Set(oranges, pears)\n",
      "Check if fruit is empty : false\n",
      "Check if nums is empty : true\n"
     ]
    },
    {
     "data": {
      "text/plain": [
       "\u001b[36mfruit\u001b[39m: \u001b[32mSet\u001b[39m[\u001b[32mString\u001b[39m] = \u001b[33mSet\u001b[39m(\u001b[32m\"apples\"\u001b[39m, \u001b[32m\"oranges\"\u001b[39m, \u001b[32m\"pears\"\u001b[39m)\n",
       "\u001b[36mnums\u001b[39m: \u001b[32mSet\u001b[39m[\u001b[32mInt\u001b[39m] = \u001b[33mSet\u001b[39m()"
      ]
     },
     "execution_count": 68,
     "metadata": {},
     "output_type": "execute_result"
    }
   ],
   "source": [
    "val fruit = Set(\"apples\", \"oranges\", \"pears\", \"apples\")\n",
    "val nums: Set[Int] = Set()\n",
    "\n",
    "println( \"Head of fruit : \" + fruit.head )\n",
    "println( \"Tail of fruit : \" + fruit.tail )\n",
    "println( \"Check if fruit is empty : \" + fruit.isEmpty )\n",
    "println( \"Check if nums is empty : \" + nums.isEmpty )"
   ]
  },
  {
   "cell_type": "code",
   "execution_count": 69,
   "metadata": {},
   "outputs": [
    {
     "name": "stdout",
     "output_type": "stream",
     "text": [
      "Keys in colors : Set(red, azure, peru)\n",
      "Values in colors : MapLike(#FF0000, #F0FFFF, #CD853F)\n",
      "Check if colors is empty : false\n",
      "Check if nums is empty : true\n"
     ]
    },
    {
     "data": {
      "text/plain": [
       "\u001b[36mcolors\u001b[39m: \u001b[32mMap\u001b[39m[\u001b[32mString\u001b[39m, \u001b[32mString\u001b[39m] = \u001b[33mMap\u001b[39m(\u001b[32m\"red\"\u001b[39m -> \u001b[32m\"#FF0000\"\u001b[39m, \u001b[32m\"azure\"\u001b[39m -> \u001b[32m\"#F0FFFF\"\u001b[39m, \u001b[32m\"peru\"\u001b[39m -> \u001b[32m\"#CD853F\"\u001b[39m)\n",
       "\u001b[36mnums\u001b[39m: \u001b[32mMap\u001b[39m[\u001b[32mInt\u001b[39m, \u001b[32mInt\u001b[39m] = \u001b[33mMap\u001b[39m()"
      ]
     },
     "execution_count": 69,
     "metadata": {},
     "output_type": "execute_result"
    }
   ],
   "source": [
    "val colors = Map(\"red\" -> \"#FF0000\", \"azure\" -> \"#F0FFFF\", \"peru\" -> \"#CD853F\")\n",
    "val nums: Map[Int, Int] = Map()\n",
    "\n",
    "println( \"Keys in colors : \" + colors.keys )\n",
    "println( \"Values in colors : \" + colors.values )\n",
    "println( \"Check if colors is empty : \" + colors.isEmpty )\n",
    "println( \"Check if nums is empty : \" + nums.isEmpty )"
   ]
  },
  {
   "cell_type": "code",
   "execution_count": 72,
   "metadata": {},
   "outputs": [
    {
     "name": "stdout",
     "output_type": "stream",
     "text": [
      "colors1 ++ colors2 : Map(blue -> #0033FF, azure -> #F0FFFF, peru -> #CD853F, yellow -> #FFFF00, red -> #FF0001)\n",
      "colors1.++(colors2)) : Map(blue -> #0033FF, azure -> #F0FFFF, peru -> #CD853F, yellow -> #FFFF00, red -> #FF0001)\n"
     ]
    },
    {
     "data": {
      "text/plain": [
       "\u001b[36mcolors1\u001b[39m: \u001b[32mMap\u001b[39m[\u001b[32mString\u001b[39m, \u001b[32mString\u001b[39m] = \u001b[33mMap\u001b[39m(\u001b[32m\"red\"\u001b[39m -> \u001b[32m\"#FF0000\"\u001b[39m, \u001b[32m\"azure\"\u001b[39m -> \u001b[32m\"#F0FFFF\"\u001b[39m, \u001b[32m\"peru\"\u001b[39m -> \u001b[32m\"#CD853F\"\u001b[39m)\n",
       "\u001b[36mcolors2\u001b[39m: \u001b[32mMap\u001b[39m[\u001b[32mString\u001b[39m, \u001b[32mString\u001b[39m] = \u001b[33mMap\u001b[39m(\u001b[32m\"blue\"\u001b[39m -> \u001b[32m\"#0033FF\"\u001b[39m, \u001b[32m\"yellow\"\u001b[39m -> \u001b[32m\"#FFFF00\"\u001b[39m, \u001b[32m\"red\"\u001b[39m -> \u001b[32m\"#FF0001\"\u001b[39m)\n",
       "\u001b[36mcolors\u001b[39m: \u001b[32mMap\u001b[39m[\u001b[32mString\u001b[39m, \u001b[32mString\u001b[39m] = \u001b[33mMap\u001b[39m(\n",
       "  \u001b[32m\"blue\"\u001b[39m -> \u001b[32m\"#0033FF\"\u001b[39m,\n",
       "  \u001b[32m\"azure\"\u001b[39m -> \u001b[32m\"#F0FFFF\"\u001b[39m,\n",
       "  \u001b[32m\"peru\"\u001b[39m -> \u001b[32m\"#CD853F\"\u001b[39m,\n",
       "  \u001b[32m\"yellow\"\u001b[39m -> \u001b[32m\"#FFFF00\"\u001b[39m,\n",
       "  \u001b[32m\"red\"\u001b[39m -> \u001b[32m\"#FF0001\"\u001b[39m\n",
       ")"
      ]
     },
     "execution_count": 72,
     "metadata": {},
     "output_type": "execute_result"
    }
   ],
   "source": [
    "val colors1 = Map(\"red\" -> \"#FF0000\", \"azure\" -> \"#F0FFFF\", \"peru\" -> \"#CD853F\")\n",
    "val colors2 = Map(\"blue\" -> \"#0033FF\", \"yellow\" -> \"#FFFF00\", \"red\" -> \"#FF0001\")\n",
    "\n",
    "// use two or more Maps with ++ as operator\n",
    "var colors = colors1 ++ colors2\n",
    "println( \"colors1 ++ colors2 : \" + colors )\n",
    "\n",
    "// use two maps with ++ as method\n",
    "colors = colors1.++(colors2)\n",
    "println( \"colors1.++(colors2)) : \" + colors )"
   ]
  },
  {
   "cell_type": "code",
   "execution_count": 73,
   "metadata": {},
   "outputs": [
    {
     "name": "stdout",
     "output_type": "stream",
     "text": [
      "Red key exists with value :#FF0000\n",
      "Maroon key does not exist\n"
     ]
    },
    {
     "data": {
      "text/plain": [
       "\u001b[36mcolors\u001b[39m: \u001b[32mMap\u001b[39m[\u001b[32mString\u001b[39m, \u001b[32mString\u001b[39m] = \u001b[33mMap\u001b[39m(\u001b[32m\"red\"\u001b[39m -> \u001b[32m\"#FF0000\"\u001b[39m, \u001b[32m\"azure\"\u001b[39m -> \u001b[32m\"#F0FFFF\"\u001b[39m, \u001b[32m\"peru\"\u001b[39m -> \u001b[32m\"#CD853F\"\u001b[39m)"
      ]
     },
     "execution_count": 73,
     "metadata": {},
     "output_type": "execute_result"
    }
   ],
   "source": [
    "val colors = Map(\"red\" -> \"#FF0000\", \"azure\" -> \"#F0FFFF\", \"peru\" -> \"#CD853F\")\n",
    "\n",
    "if( colors.contains( \"red\" )) {\n",
    "    println(\"Red key exists with value :\"  + colors(\"red\"))\n",
    "} else {\n",
    "    println(\"Red key does not exist\")\n",
    "}\n",
    "\n",
    "if( colors.contains( \"maroon\" )) {\n",
    "    println(\"Maroon key exists with value :\"  + colors(\"maroon\"))\n",
    "} else {\n",
    "    println(\"Maroon key does not exist\")\n",
    "}"
   ]
  },
  {
   "cell_type": "code",
   "execution_count": 83,
   "metadata": {},
   "outputs": [
    {
     "name": "stdout",
     "output_type": "stream",
     "text": [
      "capitals.get( \"France\" ) : Some(Paris)\n",
      "capitals.get( \"India\" ) : None\n"
     ]
    },
    {
     "data": {
      "text/plain": [
       "\u001b[36mcapitals\u001b[39m: \u001b[32mMap\u001b[39m[\u001b[32mString\u001b[39m, \u001b[32mString\u001b[39m] = \u001b[33mMap\u001b[39m(\u001b[32m\"France\"\u001b[39m -> \u001b[32m\"Paris\"\u001b[39m, \u001b[32m\"Japan\"\u001b[39m -> \u001b[32m\"Tokyo\"\u001b[39m)"
      ]
     },
     "execution_count": 83,
     "metadata": {},
     "output_type": "execute_result"
    }
   ],
   "source": [
    "val capitals = Map(\"France\" -> \"Paris\", \"Japan\" -> \"Tokyo\")\n",
    "\n",
    "println(\"capitals.get( \\\"France\\\" ) : \" +  capitals.get( \"France\" ))\n",
    "println(\"capitals.get( \\\"India\\\" ) : \" +  capitals.get( \"India\" ))"
   ]
  },
  {
   "cell_type": "code",
   "execution_count": 85,
   "metadata": {
    "scrolled": true
   },
   "outputs": [
    {
     "name": "stdout",
     "output_type": "stream",
     "text": [
      "capitals.get( \"France\" ) : Paris\n",
      "capitals.get( \"India\" ) : ?\n"
     ]
    },
    {
     "data": {
      "text/plain": [
       "defined \u001b[32mfunction\u001b[39m \u001b[36mshow\u001b[39m\n",
       "\u001b[36mcapitals\u001b[39m: \u001b[32mMap\u001b[39m[\u001b[32mString\u001b[39m, \u001b[32mString\u001b[39m] = \u001b[33mMap\u001b[39m(\u001b[32m\"France\"\u001b[39m -> \u001b[32m\"Paris\"\u001b[39m, \u001b[32m\"Japan\"\u001b[39m -> \u001b[32m\"Tokyo\"\u001b[39m)"
      ]
     },
     "execution_count": 85,
     "metadata": {},
     "output_type": "execute_result"
    }
   ],
   "source": [
    "def show(x: Option[String]) = {\n",
    "    x match {\n",
    "        case Some(y) => y\n",
    "        case None => \"?\"\n",
    "    }\n",
    "}\n",
    "\n",
    "val capitals = Map(\"France\" -> \"Paris\", \"Japan\" -> \"Tokyo\")\n",
    "\n",
    "println(\"capitals.get( \\\"France\\\" ) : \" + show(capitals.get(\"France\")))\n",
    "println(\"capitals.get( \\\"India\\\" ) : \" + show(capitals.get(\"India\")))"
   ]
  },
  {
   "cell_type": "markdown",
   "metadata": {},
   "source": [
    "# Option"
   ]
  },
  {
   "cell_type": "code",
   "execution_count": 91,
   "metadata": {},
   "outputs": [
    {
     "name": "stdout",
     "output_type": "stream",
     "text": [
      "a.getOrElse(0): 6\n",
      "b.getOrElse(10): 10\n",
      "a.isEmpty: false\n",
      "b.isEmpty: true\n",
      "6"
     ]
    },
    {
     "data": {
      "text/plain": [
       "\u001b[36ma\u001b[39m: \u001b[32mOption\u001b[39m[\u001b[32mInt\u001b[39m] = \u001b[33mSome\u001b[39m(\u001b[32m6\u001b[39m)\n",
       "\u001b[36mb\u001b[39m: \u001b[32mOption\u001b[39m[\u001b[32mInt\u001b[39m] = None"
      ]
     },
     "execution_count": 91,
     "metadata": {},
     "output_type": "execute_result"
    }
   ],
   "source": [
    "val a: Option[Int] = Some(6)\n",
    "val b: Option[Int] = None\n",
    "\n",
    "println(\"a.getOrElse(0): \" + a.getOrElse(0))\n",
    "println(\"b.getOrElse(10): \" + b.getOrElse(10))\n",
    "println(\"a.isEmpty: \" + a.isEmpty )\n",
    "println(\"b.isEmpty: \" + b.isEmpty )\n",
    "print(a.get)"
   ]
  },
  {
   "cell_type": "markdown",
   "metadata": {},
   "source": [
    "# hasNext vs next"
   ]
  },
  {
   "cell_type": "code",
   "execution_count": 94,
   "metadata": {},
   "outputs": [
    {
     "name": "stdout",
     "output_type": "stream",
     "text": [
      "a\n",
      "number\n",
      "of\n",
      "words\n"
     ]
    },
    {
     "data": {
      "text/plain": [
       "\u001b[36mit\u001b[39m: \u001b[32mIterator\u001b[39m[\u001b[32mString\u001b[39m] = empty iterator"
      ]
     },
     "execution_count": 94,
     "metadata": {},
     "output_type": "execute_result"
    }
   ],
   "source": [
    "val it = Iterator(\"a\", \"number\", \"of\", \"words\")\n",
    "\n",
    "while(it.hasNext){\n",
    "    println(it.next)\n",
    "}"
   ]
  },
  {
   "cell_type": "markdown",
   "metadata": {},
   "source": [
    "# pattern matching"
   ]
  },
  {
   "cell_type": "code",
   "execution_count": 95,
   "metadata": {},
   "outputs": [
    {
     "name": "stdout",
     "output_type": "stream",
     "text": [
      "2\n",
      "many\n",
      "one\n"
     ]
    },
    {
     "data": {
      "text/plain": [
       "defined \u001b[32mfunction\u001b[39m \u001b[36mmatchTest\u001b[39m"
      ]
     },
     "execution_count": 95,
     "metadata": {},
     "output_type": "execute_result"
    }
   ],
   "source": [
    "def matchTest(x: Any) : Any = {\n",
    "    x match{\n",
    "        case 1 => \"one\"\n",
    "        case \"two\" => 2\n",
    "        case y: Int => \"scala.Int\"\n",
    "        case _ => \"many\"\n",
    "    }\n",
    "}\n",
    "\n",
    "println(matchTest(\"two\"))\n",
    "println(matchTest(\"test\"))\n",
    "println(matchTest(1))"
   ]
  },
  {
   "cell_type": "code",
   "execution_count": 97,
   "metadata": {},
   "outputs": [
    {
     "name": "stdout",
     "output_type": "stream",
     "text": [
      "Hi Alice!\n",
      "Hi Bob!\n",
      "Age: 32 year, name: Charlie?\n"
     ]
    },
    {
     "data": {
      "text/plain": [
       "defined \u001b[32mclass\u001b[39m \u001b[36mPerson\u001b[39m\n",
       "\u001b[36malice\u001b[39m: \u001b[32mwrapper\u001b[39m.\u001b[32mwrapper\u001b[39m.\u001b[32mPerson\u001b[39m = \u001b[33mPerson\u001b[39m(\u001b[32m\"Alice\"\u001b[39m, \u001b[32m25\u001b[39m)\n",
       "\u001b[36mbob\u001b[39m: \u001b[32mwrapper\u001b[39m.\u001b[32mwrapper\u001b[39m.\u001b[32mPerson\u001b[39m = \u001b[33mPerson\u001b[39m(\u001b[32m\"Bob\"\u001b[39m, \u001b[32m32\u001b[39m)\n",
       "\u001b[36mcharlie\u001b[39m: \u001b[32mwrapper\u001b[39m.\u001b[32mwrapper\u001b[39m.\u001b[32mPerson\u001b[39m = \u001b[33mPerson\u001b[39m(\u001b[32m\"Charlie\"\u001b[39m, \u001b[32m32\u001b[39m)"
      ]
     },
     "execution_count": 97,
     "metadata": {},
     "output_type": "execute_result"
    }
   ],
   "source": [
    "case class Person(name: String, age: Int)\n",
    "\n",
    "val alice = new Person(\"Alice\", 25)\n",
    "val bob = new Person(\"Bob\", 32)\n",
    "val charlie = new Person(\"Charlie\", 32)\n",
    "\n",
    "for(person <- List(alice, bob, charlie)){\n",
    "    person match{\n",
    "        case Person(\"Alice\", 25) => println(\"Hi Alice!\")\n",
    "        case Person(\"Bob\", 32) => println(\"Hi Bob!\")\n",
    "        case Person(name, age) => println(\"Age: \" + age + \" year, name: \" + name + \"?\")\n",
    "    }\n",
    "}"
   ]
  },
  {
   "cell_type": "markdown",
   "metadata": {},
   "source": [
    "# regular expression"
   ]
  },
  {
   "cell_type": "code",
   "execution_count": 2,
   "metadata": {},
   "outputs": [
    {
     "name": "stdout",
     "output_type": "stream",
     "text": [
      "Some(Scala)\n"
     ]
    },
    {
     "data": {
      "text/plain": [
       "\u001b[32mimport \u001b[39m\u001b[36mscala.util.matching.Regex\n",
       "\n",
       "\u001b[39m\n",
       "\u001b[36mpattern\u001b[39m: \u001b[32mRegex\u001b[39m = Scala\n",
       "\u001b[36mstr\u001b[39m: \u001b[32mString\u001b[39m = \u001b[32m\"Scala is Scalable and cool\"\u001b[39m"
      ]
     },
     "execution_count": 2,
     "metadata": {},
     "output_type": "execute_result"
    }
   ],
   "source": [
    "import scala.util.matching.Regex\n",
    "\n",
    "val pattern = \"Scala\".r\n",
    "val str = \"Scala is Scalable and cool\"\n",
    "\n",
    "println(pattern.findFirstIn(str))"
   ]
  },
  {
   "cell_type": "code",
   "execution_count": 119,
   "metadata": {},
   "outputs": [
    {
     "name": "stdout",
     "output_type": "stream",
     "text": [
      "Scala\n",
      "Scala,scala\n"
     ]
    },
    {
     "data": {
      "text/plain": [
       "\u001b[36mpattern\u001b[39m: \u001b[32mRegex\u001b[39m = [S|s]cala\n",
       "\u001b[36mstr\u001b[39m: \u001b[32mString\u001b[39m = \u001b[32m\"Scala is scalable and cool\"\u001b[39m"
      ]
     },
     "execution_count": 119,
     "metadata": {},
     "output_type": "execute_result"
    }
   ],
   "source": [
    "val pattern = new Regex(\"[S|s]cala\")\n",
    "val str = \"Scala is scalable and cool\"\n",
    "\n",
    "println((pattern findFirstIn str).mkString(\",\"))\n",
    "println((pattern findAllIn str).mkString(\",\"))"
   ]
  },
  {
   "cell_type": "code",
   "execution_count": 120,
   "metadata": {},
   "outputs": [
    {
     "name": "stdout",
     "output_type": "stream",
     "text": [
      "Java is scalable and cool\n",
      "Java is Javable and cool\n"
     ]
    },
    {
     "data": {
      "text/plain": [
       "\u001b[36mpattern\u001b[39m: \u001b[32mRegex\u001b[39m = [Ss]cala\n",
       "\u001b[36mstr\u001b[39m: \u001b[32mString\u001b[39m = \u001b[32m\"Scala is scalable and cool\"\u001b[39m"
      ]
     },
     "execution_count": 120,
     "metadata": {},
     "output_type": "execute_result"
    }
   ],
   "source": [
    "val pattern = \"[Ss]cala\".r\n",
    "val str = \"Scala is scalable and cool\"\n",
    "\n",
    "println(pattern replaceFirstIn(str, \"Java\"))\n",
    "println(pattern replaceAllIn(str, \"Java\"))"
   ]
  },
  {
   "cell_type": "code",
   "execution_count": 126,
   "metadata": {},
   "outputs": [
    {
     "name": "stdout",
     "output_type": "stream",
     "text": [
      "able1\n"
     ]
    },
    {
     "data": {
      "text/plain": [
       "\u001b[36mpattern\u001b[39m: \u001b[32mRegex\u001b[39m = abl[ae]\\d+\n",
       "\u001b[36mstr\u001b[39m: \u001b[32mString\u001b[39m = \u001b[32m\"ablaw is able1 and cool\"\u001b[39m"
      ]
     },
     "execution_count": 126,
     "metadata": {},
     "output_type": "execute_result"
    }
   ],
   "source": [
    "val pattern = new Regex(\"abl[ae]\\\\d+\")\n",
    "val str = \"ablaw is able1 and cool\"\n",
    "\n",
    "println((pattern findAllIn str).mkString(\",\"))"
   ]
  },
  {
   "cell_type": "code",
   "execution_count": 128,
   "metadata": {},
   "outputs": [
    {
     "name": "stdout",
     "output_type": "stream",
     "text": [
      "Missing file exception\n",
      "Exiting finally...\n"
     ]
    },
    {
     "data": {
      "text/plain": [
       "\u001b[32mimport \u001b[39m\u001b[36mjava.io.FileReader\n",
       "\u001b[39m\n",
       "\u001b[32mimport \u001b[39m\u001b[36mjava.io.FileNotFoundException\n",
       "\u001b[39m\n",
       "\u001b[32mimport \u001b[39m\u001b[36mjava.io.IOException\n",
       "\n",
       "\u001b[39m"
      ]
     },
     "execution_count": 128,
     "metadata": {},
     "output_type": "execute_result"
    }
   ],
   "source": [
    "import java.io.FileReader\n",
    "import java.io.FileNotFoundException\n",
    "import java.io.IOException\n",
    "\n",
    "try{\n",
    "    val f = new FileReader(\"input.txt\")\n",
    "}catch {\n",
    "    case ex: FileNotFoundException => {\n",
    "        println(\"Missing file exception\")\n",
    "    }\n",
    "\n",
    "    case ex: IOException => {\n",
    "        println(\"IO Exception\")\n",
    "    }\n",
    "}finally {\n",
    "    println(\"Exiting finally...\")\n",
    "}\n"
   ]
  },
  {
   "cell_type": "code",
   "execution_count": 131,
   "metadata": {},
   "outputs": [
    {
     "name": "stdout",
     "output_type": "stream",
     "text": [
      "Apply method : Maxsu@gmail.com\n",
      "Unapply method : Some((Maxsu,gmail.com))\n",
      "Unapply method : None\n"
     ]
    },
    {
     "data": {
      "text/plain": [
       "defined \u001b[32mfunction\u001b[39m \u001b[36mapply\u001b[39m\n",
       "defined \u001b[32mfunction\u001b[39m \u001b[36munapply\u001b[39m"
      ]
     },
     "execution_count": 131,
     "metadata": {},
     "output_type": "execute_result"
    }
   ],
   "source": [
    "def apply(user: String, domain: String): String = {\n",
    "    user + \"@\" + domain\n",
    "}\n",
    "\n",
    "def unapply(email: String): Option[(String, String)] = {\n",
    "    val parts = email split \"@\"\n",
    "    \n",
    "    if(parts.length == 2){\n",
    "        Some((parts(0), parts(1)))\n",
    "    }else{\n",
    "        None\n",
    "    }\n",
    "}\n",
    "\n",
    "println (\"Apply method : \" + apply(\"Maxsu\", \"gmail.com\"));\n",
    "println (\"Unapply method : \" + unapply(\"Maxsu@gmail.com\"));\n",
    "println (\"Unapply method : \" + unapply(\"Maxsu Ali\"));"
   ]
  },
  {
   "cell_type": "code",
   "execution_count": 137,
   "metadata": {},
   "outputs": [
    {
     "name": "stdout",
     "output_type": "stream",
     "text": [
      "10\n",
      "10 is bigger two times than 5\n"
     ]
    },
    {
     "data": {
      "text/plain": [
       "defined \u001b[32mobject\u001b[39m \u001b[36mDemo\u001b[39m\n",
       "\u001b[36mx\u001b[39m: \u001b[32mInt\u001b[39m = \u001b[32m10\u001b[39m"
      ]
     },
     "execution_count": 137,
     "metadata": {},
     "output_type": "execute_result"
    }
   ],
   "source": [
    "object Demo{\n",
    "    def apply(x: Int) = x * 2\n",
    "    def unapply(y: Int): Option[Int] = if(y % 2 == 0) Some(y/2) else None\n",
    "}\n",
    "\n",
    "val x = Demo(5)\n",
    "println(x)\n",
    "\n",
    "x match{\n",
    "    case Demo(num) => println(x + \" is bigger two times than \" + num)\n",
    "    case _ => println(\"I cannot calculate\")\n",
    "}"
   ]
  },
  {
   "cell_type": "markdown",
   "metadata": {},
   "source": [
    "# I/O"
   ]
  },
  {
   "cell_type": "code",
   "execution_count": 148,
   "metadata": {},
   "outputs": [
    {
     "data": {
      "text/plain": [
       "\u001b[32mimport \u001b[39m\u001b[36mjava.io._\n",
       "\n",
       "\u001b[39m\n",
       "\u001b[36mwriter\u001b[39m: \u001b[32mFileWriter\u001b[39m = java.io.FileWriter@36732403"
      ]
     },
     "execution_count": 148,
     "metadata": {},
     "output_type": "execute_result"
    }
   ],
   "source": [
    "// io\n",
    "\n",
    "import java.io._\n",
    "\n",
    "val writer = new FileWriter(new File(\"hello.txt\"))\n",
    "writer.write(\"Hello Scala\")\n",
    "writer.close()"
   ]
  },
  {
   "cell_type": "code",
   "execution_count": 151,
   "metadata": {},
   "outputs": [
    {
     "name": "stdout",
     "output_type": "stream",
     "text": [
      "Hello Scala"
     ]
    },
    {
     "data": {
      "text/plain": [
       "\u001b[32mimport \u001b[39m\u001b[36mscala.io.Source\n",
       "\n",
       "\u001b[39m"
      ]
     },
     "execution_count": 151,
     "metadata": {},
     "output_type": "execute_result"
    }
   ],
   "source": [
    "import scala.io.Source\n",
    "\n",
    "Source.fromFile(\"hello.txt\").foreach(print( _ ))"
   ]
  },
  {
   "cell_type": "code",
   "execution_count": null,
   "metadata": {
    "collapsed": true
   },
   "outputs": [],
   "source": []
  }
 ],
 "metadata": {
  "kernelspec": {
   "display_name": "Scala",
   "language": "scala",
   "name": "scala"
  },
  "language_info": {
   "codemirror_mode": "text/x-scala",
   "file_extension": ".scala",
   "mimetype": "text/x-scala",
   "name": "scala211",
   "nbconvert_exporter": "script",
   "pygments_lexer": "scala",
   "version": "2.11.11"
  }
 },
 "nbformat": 4,
 "nbformat_minor": 2
}
