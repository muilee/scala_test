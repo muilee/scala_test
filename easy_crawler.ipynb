{
 "cells": [
  {
   "cell_type": "code",
   "execution_count": 1,
   "metadata": {},
   "outputs": [
    {
     "data": {
      "text/plain": [
       "\u001b[32mimport \u001b[39m\u001b[36morg.jsoup.Jsoup\n",
       "\u001b[39m\n",
       "\u001b[32mimport \u001b[39m\u001b[36morg.jsoup.nodes.Element\n",
       "\u001b[39m\n",
       "\u001b[32mimport \u001b[39m\u001b[36mscala.collection.JavaConversions._\u001b[39m"
      ]
     },
     "execution_count": 1,
     "metadata": {},
     "output_type": "execute_result"
    }
   ],
   "source": [
    "import org.jsoup.Jsoup\n",
    "import org.jsoup.nodes.Element\n",
    "import scala.collection.JavaConversions._"
   ]
  },
  {
   "cell_type": "code",
   "execution_count": 2,
   "metadata": {},
   "outputs": [
    {
     "data": {
      "text/plain": [
       "\u001b[36murls\u001b[39m: \u001b[32mcollection\u001b[39m.\u001b[32mmutable\u001b[39m.\u001b[32mArrayBuffer\u001b[39m[\u001b[32mcollection\u001b[39m.\u001b[32mmutable\u001b[39m.\u001b[32mBuffer\u001b[39m[\u001b[32mString\u001b[39m]] = \u001b[33mArrayBuffer\u001b[39m(\n",
       "  \u001b[33mArrayBuffer\u001b[39m(\n",
       "    \u001b[32m\"https://tw.entertainment.appledaily.com/realtime/20171209/1256035/\"\u001b[39m,\n",
       "    \u001b[32m\"https://tw.news.appledaily.com/local/realtime/20171209/1256262/\"\u001b[39m,\n",
       "    \u001b[32m\"https://tw.news.appledaily.com/local/realtime/20171209/1256254/\"\u001b[39m,\n",
       "    \u001b[32m\"https://tw.news.appledaily.com/international/realtime/20171209/1256111/\"\u001b[39m,\n",
       "    \u001b[32m\"https://tw.news.appledaily.com/local/realtime/20171209/1256253/\"\u001b[39m,\n",
       "    \u001b[32m\"https://tw.news.appledaily.com/life/realtime/20171209/1256267/\"\u001b[39m,\n",
       "    \u001b[32m\"https://tw.news.appledaily.com/international/realtime/20171209/1256263/\"\u001b[39m,\n",
       "    \u001b[32m\"https://tw.news.appledaily.com/local/realtime/20171209/1256257/\"\u001b[39m,\n",
       "    \u001b[32m\"https://tw.news.appledaily.com/life/realtime/20171209/1256259/\"\u001b[39m,\n",
       "    \u001b[32m\"https://tw.finance.appledaily.com/realtime/20171209/1249431/\"\u001b[39m,\n",
       "\u001b[33m...\u001b[39m\n",
       "\u001b[36murlsDetail\u001b[39m: \u001b[32mcollection\u001b[39m.\u001b[32mmutable\u001b[39m.\u001b[32mArrayBuffer\u001b[39m[\u001b[32mString\u001b[39m] = \u001b[33mArrayBuffer\u001b[39m(\n",
       "  \u001b[32m\"https://tw.entertainment.appledaily.com/realtime/20171209/1256035/\"\u001b[39m,\n",
       "  \u001b[32m\"https://tw.news.appledaily.com/local/realtime/20171209/1256262/\"\u001b[39m,\n",
       "  \u001b[32m\"https://tw.news.appledaily.com/local/realtime/20171209/1256254/\"\u001b[39m,\n",
       "  \u001b[32m\"https://tw.news.appledaily.com/international/realtime/20171209/1256111/\"\u001b[39m,\n",
       "  \u001b[32m\"https://tw.news.appledaily.com/local/realtime/20171209/1256253/\"\u001b[39m,\n",
       "  \u001b[32m\"https://tw.news.appledaily.com/life/realtime/20171209/1256267/\"\u001b[39m,\n",
       "  \u001b[32m\"https://tw.news.appledaily.com/international/realtime/20171209/1256263/\"\u001b[39m,\n",
       "  \u001b[32m\"https://tw.news.appledaily.com/local/realtime/20171209/1256257/\"\u001b[39m,\n",
       "  \u001b[32m\"https://tw.news.appledaily.com/life/realtime/20171209/1256259/\"\u001b[39m,\n",
       "  \u001b[32m\"https://tw.finance.appledaily.com/realtime/20171209/1249431/\"\u001b[39m,\n",
       "  \u001b[32m\"https://tw.news.appledaily.com/politics/realtime/20171209/1256255/\"\u001b[39m,\n",
       "\u001b[33m...\u001b[39m"
      ]
     },
     "execution_count": 2,
     "metadata": {},
     "output_type": "execute_result"
    }
   ],
   "source": [
    "val urls = scala.collection.mutable.ArrayBuffer.empty[scala.collection.mutable.Buffer[String]]\n",
    "\n",
    "for(i <- 1 to 60){\n",
    "    urls += Jsoup.connect(s\"https://tw.appledaily.com/new/realtime/${i}\").get().select(\"ul.rtddd > li.rtddt > a\").map(a => a.attr(\"href\"))\n",
    "}\n",
    "val urlsDetail = urls.flatten"
   ]
  },
  {
   "cell_type": "code",
   "execution_count": 3,
   "metadata": {},
   "outputs": [
    {
     "data": {
      "text/plain": [
       "\u001b[36mres2\u001b[39m: \u001b[32mInt\u001b[39m = \u001b[32m1800\u001b[39m"
      ]
     },
     "execution_count": 3,
     "metadata": {},
     "output_type": "execute_result"
    }
   ],
   "source": [
    "urlsDetail.length"
   ]
  },
  {
   "cell_type": "code",
   "execution_count": null,
   "metadata": {
    "collapsed": true
   },
   "outputs": [],
   "source": []
  },
  {
   "cell_type": "code",
   "execution_count": 25,
   "metadata": {},
   "outputs": [
    {
     "data": {
      "text/plain": [
       "\u001b[36mpage\u001b[39m: \u001b[32morg\u001b[39m.\u001b[32mjsoup\u001b[39m.\u001b[32mnodes\u001b[39m.\u001b[32mDocument\u001b[39m = <!doctype html>\n",
       "<!--[if lt IE 7 ]> <html lang=\"zh-TW\" class=\"ie6 ielt8\"> <![endif]-->\n",
       "<!--[if IE 7 ]>    <html lang=\"zh-TW\" class=\"ie7 ielt8\"> <![endif]-->\n",
       "<!--[if IE 8 ]>    <html lang=\"zh-TW\" class=\"ie8\"> <![endif]-->\n",
       "<!--[if (gte IE 9)|!(IE)]><!-->\n",
       "<html lang=\"zh-TW\">\n",
       " <!--<![endif]-->\n",
       " <head> \n",
       "  <!-- diff --> \n",
       "  <link rel=\"stylesheet\" href=\"//img.appledaily.com.tw/pay/css/translateelement.css\"> \n",
       "  <script type=\"text/javascript\" src=\"//translate.google.com/translate_a/element\u001b[33m...\u001b[39m\n",
       "\u001b[36mres24_1\u001b[39m: \u001b[32mMap\u001b[39m[\u001b[32mString\u001b[39m, \u001b[32mAny\u001b[39m] = \u001b[33mMap\u001b[39m(\n",
       "  \u001b[32m\"title\"\u001b[39m -> 立院二讀通過《公投法》　投票人年齡降為18歲,\n",
       "  \u001b[32m\"view\"\u001b[39m -> 2684,\n",
       "  \u001b[32m\"createdTime\"\u001b[39m -> 建立時間：2017/12/08 16:34\n",
       ")"
      ]
     },
     "execution_count": 25,
     "metadata": {},
     "output_type": "execute_result"
    }
   ],
   "source": [
    "val page = Jsoup.connect(\"https://tw.news.appledaily.com/politics/realtime/20171208/1255853/\").get()\n",
    "Map(\"title\" -> page.select(\"article.ndArticle_leftColumn > hgroup > h1\").text(),\n",
    "    \"view\" -> page.select(\"article.ndArticle_leftColumn > hgroup > div.ndArticle_view\").text().toInt,\n",
    "    \"createdTime\" -> page.select(\"article.ndArticle_leftColumn > hgroup > div.ndArticle_creat\").text())\n"
   ]
  },
  {
   "cell_type": "code",
   "execution_count": null,
   "metadata": {
    "collapsed": true
   },
   "outputs": [],
   "source": []
  }
 ],
 "metadata": {
  "kernelspec": {
   "display_name": "Scala",
   "language": "scala",
   "name": "scala"
  },
  "language_info": {
   "codemirror_mode": "text/x-scala",
   "file_extension": ".scala",
   "mimetype": "text/x-scala",
   "name": "scala211",
   "nbconvert_exporter": "script",
   "pygments_lexer": "scala",
   "version": "2.11.11"
  }
 },
 "nbformat": 4,
 "nbformat_minor": 2
}
