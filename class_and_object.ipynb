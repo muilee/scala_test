{
 "cells": [
  {
   "cell_type": "code",
   "execution_count": 1,
   "metadata": {},
   "outputs": [
    {
     "name": "stdout",
     "output_type": "stream",
     "text": [
      "Hello, This is Singleton Object\n"
     ]
    },
    {
     "data": {
      "text/plain": [
       "defined \u001b[32mobject\u001b[39m \u001b[36mSingletonObject\u001b[39m"
      ]
     },
     "execution_count": 1,
     "metadata": {},
     "output_type": "execute_result"
    }
   ],
   "source": [
    "object SingletonObject{  \n",
    "    def hello(){  \n",
    "        println(\"Hello, This is Singleton Object\")  \n",
    "    }  \n",
    "}\n",
    "\n",
    "SingletonObject.hello()"
   ]
  },
  {
   "cell_type": "code",
   "execution_count": 4,
   "metadata": {},
   "outputs": [
    {
     "data": {
      "text/plain": [
       "defined \u001b[32mclass\u001b[39m \u001b[36mStudent\u001b[39m\n",
       "\u001b[36mres3_1\u001b[39m: \u001b[32mwrapper\u001b[39m.\u001b[32mwrapper\u001b[39m.\u001b[32mStudent\u001b[39m = $sess.cmd3Wrapper$Helper$Student@5ed414dd"
      ]
     },
     "execution_count": 4,
     "metadata": {},
     "output_type": "execute_result"
    },
    {
     "name": "stdout",
     "output_type": "stream",
     "text": [
      "Hello from default constructor\n"
     ]
    }
   ],
   "source": [
    "class Student{  \n",
    "    println(\"Hello from default constructor\");  \n",
    "}\n",
    "\n",
    "new Student"
   ]
  },
  {
   "cell_type": "code",
   "execution_count": 7,
   "metadata": {},
   "outputs": [
    {
     "name": "stdout",
     "output_type": "stream",
     "text": [
      "1010 Maxsu\n"
     ]
    },
    {
     "data": {
      "text/plain": [
       "defined \u001b[32mclass\u001b[39m \u001b[36mStudent\u001b[39m\n",
       "\u001b[36ms\u001b[39m: \u001b[32mwrapper\u001b[39m.\u001b[32mwrapper\u001b[39m.\u001b[32mStudent\u001b[39m = $sess.cmd6Wrapper$Helper$Student@7c0112d"
      ]
     },
     "execution_count": 7,
     "metadata": {},
     "output_type": "execute_result"
    }
   ],
   "source": [
    "class Student(id:Int, name:String){  \n",
    "    def showDetails(){  \n",
    "        println(id + \" \" + name);  \n",
    "    }  \n",
    "}\n",
    "\n",
    "val s = new Student(1010, \"Maxsu\")\n",
    "s.showDetails"
   ]
  },
  {
   "cell_type": "code",
   "execution_count": 36,
   "metadata": {},
   "outputs": [
    {
     "name": "stdout",
     "output_type": "stream",
     "text": [
      "1010 Maxsu 25\n"
     ]
    },
    {
     "data": {
      "text/plain": [
       "defined \u001b[32mclass\u001b[39m \u001b[36mStudent\u001b[39m\n",
       "\u001b[36ms\u001b[39m: \u001b[32mwrapper\u001b[39m.\u001b[32mwrapper\u001b[39m.\u001b[32mStudent\u001b[39m = $sess.cmd35Wrapper$Helper$Student@4974b195"
      ]
     },
     "execution_count": 36,
     "metadata": {},
     "output_type": "execute_result"
    }
   ],
   "source": [
    "class Student(id:Int, name:String){  \n",
    "    var age:Int = 0\n",
    "    def showDetails(){  \n",
    "        println(id + \" \" + name + \" \" + age)  \n",
    "    }  \n",
    "    def this(id:Int, name:String,age:Int){  \n",
    "        this(id,name)       // Calling primary constructor, and it is first line  \n",
    "        this.age = age  \n",
    "    }  \n",
    "} \n",
    "\n",
    "val s = new Student(1010, \"Maxsu\", 25)\n",
    "s.showDetails"
   ]
  },
  {
   "cell_type": "code",
   "execution_count": 42,
   "metadata": {},
   "outputs": [
    {
     "name": "stdout",
     "output_type": "stream",
     "text": [
      "101\n",
      "100\n",
      "100 Minsu\n",
      "1000\n",
      "1000"
     ]
    },
    {
     "data": {
      "text/plain": [
       "defined \u001b[32mclass\u001b[39m \u001b[36mStudent\u001b[39m\n",
       "\u001b[36mres41_1\u001b[39m: \u001b[32mwrapper\u001b[39m.\u001b[32mwrapper\u001b[39m.\u001b[32mStudent\u001b[39m = $sess.cmd41Wrapper$Helper$Student@683d2979\n",
       "\u001b[36mres41_2\u001b[39m: \u001b[32mwrapper\u001b[39m.\u001b[32mwrapper\u001b[39m.\u001b[32mStudent\u001b[39m = $sess.cmd41Wrapper$Helper$Student@2618a449\n",
       "\u001b[36mx\u001b[39m: \u001b[32mwrapper\u001b[39m.\u001b[32mwrapper\u001b[39m.\u001b[32mStudent\u001b[39m = $sess.cmd41Wrapper$Helper$Student@6c9edab0"
      ]
     },
     "execution_count": 42,
     "metadata": {},
     "output_type": "execute_result"
    }
   ],
   "source": [
    "class Student(val id:Int){  \n",
    "    def this(id:Int, name:String)={  \n",
    "        this(id)  \n",
    "        println(id + \" \" + name)  \n",
    "    }  \n",
    "    println(id)  \n",
    "} \n",
    "\n",
    "new Student(101)  \n",
    "new Student(100,\"Minsu\")  \n",
    "val x = new Student(1000)  \n",
    "print(x.id)"
   ]
  },
  {
   "cell_type": "code",
   "execution_count": 16,
   "metadata": {},
   "outputs": [
    {
     "name": "stdout",
     "output_type": "stream",
     "text": [
      "30\n",
      "60\n"
     ]
    },
    {
     "data": {
      "text/plain": [
       "defined \u001b[32mclass\u001b[39m \u001b[36mArithmetic\u001b[39m\n",
       "\u001b[36ma\u001b[39m: \u001b[32mArithmetic\u001b[39m = $sess.cmd15Wrapper$Helper$Arithmetic@4d3f73e0"
      ]
     },
     "execution_count": 16,
     "metadata": {},
     "output_type": "execute_result"
    }
   ],
   "source": [
    "class Arithmetic{  \n",
    "    def add(a:Int, b:Int){  \n",
    "        var sum = a+b  \n",
    "        println(sum)  \n",
    "    }  \n",
    "    def add(a:Int, b:Int, c:Int){  \n",
    "        var sum = a+b+c  \n",
    "        println(sum)  \n",
    "    }  \n",
    "}  \n",
    "\n",
    "var a  = new Arithmetic()\n",
    "a.add(10,20)\n",
    "a.add(10,20,30)"
   ]
  },
  {
   "cell_type": "code",
   "execution_count": 17,
   "metadata": {},
   "outputs": [
    {
     "name": "stdout",
     "output_type": "stream",
     "text": [
      "30\n",
      "30.1\n"
     ]
    },
    {
     "data": {
      "text/plain": [
       "defined \u001b[32mclass\u001b[39m \u001b[36mArithmetic\u001b[39m\n",
       "\u001b[36mb\u001b[39m: \u001b[32mwrapper\u001b[39m.\u001b[32mwrapper\u001b[39m.\u001b[32mArithmetic\u001b[39m = $sess.cmd16Wrapper$Helper$Arithmetic@2d8d4443"
      ]
     },
     "execution_count": 17,
     "metadata": {},
     "output_type": "execute_result"
    }
   ],
   "source": [
    "class Arithmetic{  \n",
    "    def add(a:Int, b:Int){  \n",
    "        var sum = a+b  \n",
    "        println(sum)  \n",
    "    }  \n",
    "    def add(a:Double, b:Double){  \n",
    "        var sum = a+b  \n",
    "        println(sum)  \n",
    "    }  \n",
    "}  \n",
    "\n",
    "var b = new Arithmetic()  \n",
    "b.add(10,20)  \n",
    "b.add(10.0,20.1)  "
   ]
  },
  {
   "cell_type": "code",
   "execution_count": 21,
   "metadata": {},
   "outputs": [
    {
     "name": "stdout",
     "output_type": "stream",
     "text": [
      "1010 Maxsu\n"
     ]
    },
    {
     "data": {
      "text/plain": [
       "defined \u001b[32mclass\u001b[39m \u001b[36mThisExample\u001b[39m\n",
       "\u001b[36mt\u001b[39m: \u001b[32mwrapper\u001b[39m.\u001b[32mwrapper\u001b[39m.\u001b[32mThisExample\u001b[39m = $sess.cmd20Wrapper$Helper$ThisExample@34a78c10"
      ]
     },
     "execution_count": 21,
     "metadata": {},
     "output_type": "execute_result"
    }
   ],
   "source": [
    "class ThisExample{  \n",
    "    var id:Int = 0  \n",
    "    var name: String = \"\"  \n",
    "    def this(id:Int, name:String){  \n",
    "        this()  \n",
    "        this.id = id  \n",
    "        this.name = name  \n",
    "    }  \n",
    "    def show(){  \n",
    "        println(id+\" \"+name)  \n",
    "    }  \n",
    "}  \n",
    "\n",
    "var t = new ThisExample(1010,\"Maxsu\")  \n",
    "t.show()  "
   ]
  },
  {
   "cell_type": "code",
   "execution_count": 35,
   "metadata": {},
   "outputs": [
    {
     "name": "stdout",
     "output_type": "stream",
     "text": [
      "(John,0)"
     ]
    },
    {
     "data": {
      "text/plain": [
       "defined \u001b[32mclass\u001b[39m \u001b[36mThisExample\u001b[39m\n",
       "\u001b[36mx\u001b[39m: \u001b[32mwrapper\u001b[39m.\u001b[32mwrapper\u001b[39m.\u001b[32mThisExample\u001b[39m = $sess.cmd34Wrapper$Helper$ThisExample@b1924f7"
      ]
     },
     "execution_count": 35,
     "metadata": {},
     "output_type": "execute_result"
    }
   ],
   "source": [
    "class ThisExample{\n",
    "    var id:Int = 0  \n",
    "    var name: String = \"\"\n",
    "    def this(id:Int){\n",
    "        this()\n",
    "        this.id = id\n",
    "    }\n",
    "    \n",
    "    def this(name: String){\n",
    "        this()\n",
    "        this.name = name\n",
    "    }\n",
    "}\n",
    "val x = new ThisExample(\"John\")\n",
    "print(x.name, x.id)"
   ]
  },
  {
   "cell_type": "code",
   "execution_count": 44,
   "metadata": {},
   "outputs": [
    {
     "name": "stdout",
     "output_type": "stream",
     "text": [
      "Exception handeled here\n",
      "Rest of the code executing...\n"
     ]
    },
    {
     "data": {
      "text/plain": [
       "defined \u001b[32mclass\u001b[39m \u001b[36mExceptionExample4\u001b[39m\n",
       "\u001b[36me\u001b[39m: \u001b[32mExceptionExample4\u001b[39m = $sess.cmd43Wrapper$Helper$ExceptionExample4@460b29ce\n",
       "\u001b[36mres43_2\u001b[39m: \u001b[32mAnyVal\u001b[39m = ()"
      ]
     },
     "execution_count": 44,
     "metadata": {},
     "output_type": "execute_result"
    }
   ],
   "source": [
    "class ExceptionExample4{  \n",
    "    @throws(classOf[NumberFormatException])  \n",
    "    def validate()={  \n",
    "        \"abc\".toInt  \n",
    "    }  \n",
    "}  \n",
    "\n",
    "var e = new ExceptionExample4()  \n",
    "try{  \n",
    "    e.validate()  \n",
    "}catch{  \n",
    "    case ex : NumberFormatException => println(\"Exception handeled here\")  \n",
    "}  \n",
    "println(\"Rest of the code executing...\")  "
   ]
  },
  {
   "cell_type": "code",
   "execution_count": 45,
   "metadata": {},
   "outputs": [
    {
     "name": "stdout",
     "output_type": "stream",
     "text": [
      "5 / 49\n"
     ]
    },
    {
     "data": {
      "text/plain": [
       "defined \u001b[32mclass\u001b[39m \u001b[36mRational\u001b[39m\n",
       "\u001b[36mr1\u001b[39m: \u001b[32mRational\u001b[39m = 3 / 7\n",
       "\u001b[36mr2\u001b[39m: \u001b[32mRational\u001b[39m = 5 / 21"
      ]
     },
     "execution_count": 45,
     "metadata": {},
     "output_type": "execute_result"
    }
   ],
   "source": [
    "class Rational(n: Int, d: Int) {\n",
    "\n",
    "  require(d != 0)\n",
    "  \n",
    "  def this(n: Int) = this(n, 1)\n",
    "  \n",
    "  def gcd(a: Int, b: Int): Int = if (a == 0) b else gcd(b % a, a)\n",
    "  \n",
    "  val g = gcd(n, d)\n",
    "  \n",
    "  val numer = n / g\n",
    "  \n",
    "  val denom = d / g\n",
    "  \n",
    "  \n",
    "  override def toString = if (denom != 1) s\"${numer} / ${denom}\" else s\"${numer}\"\n",
    "  \n",
    "  def +(that: Rational) = new Rational(numer * that.denom + denom * that.numer, denom * that.denom)\n",
    "  \n",
    "  def -(that: Rational) = new Rational(numer * that.denom - denom * that.numer, denom * that.denom)\n",
    "  \n",
    "  def *(that: Rational) = new Rational(numer * that.numer, denom * that.denom)\n",
    "  \n",
    "  def /(that: Rational) = new Rational(numer * that.denom, denom * that.numer)\n",
    "  \n",
    "}\n",
    "\n",
    "val r1 = new Rational(3, 7)\n",
    "val r2 = new Rational(5, 21)\n",
    "\n",
    "println(r1 * r2)"
   ]
  },
  {
   "cell_type": "code",
   "execution_count": 46,
   "metadata": {},
   "outputs": [
    {
     "data": {
      "text/plain": [
       "defined \u001b[32mclass\u001b[39m \u001b[36mPerson\u001b[39m\n",
       "\u001b[36mp1\u001b[39m: \u001b[32mPerson\u001b[39m = \u001b[33mPerson\u001b[39m(\u001b[32m\"abc\"\u001b[39m, \u001b[32m10\u001b[39m)"
      ]
     },
     "execution_count": 46,
     "metadata": {},
     "output_type": "execute_result"
    }
   ],
   "source": [
    "// case class\n",
    "\n",
    "case class Person(name: String, age: Int)\n",
    "val p1 = Person(\"abc\", 10)"
   ]
  },
  {
   "cell_type": "code",
   "execution_count": 52,
   "metadata": {},
   "outputs": [
    {
     "name": "stdout",
     "output_type": "stream",
     "text": [
      "EMail.unapply\n",
      "UpperCase.unapply\n",
      "not match\n",
      "EMail.unapply\n",
      "UpperCase.unapply\n",
      "(TEST,test.com)\n"
     ]
    },
    {
     "data": {
      "text/plain": [
       "defined \u001b[32mobject\u001b[39m \u001b[36mEMail\u001b[39m\n",
       "defined \u001b[32mobject\u001b[39m \u001b[36mUpperCase\u001b[39m"
      ]
     },
     "execution_count": 52,
     "metadata": {},
     "output_type": "execute_result"
    }
   ],
   "source": [
    "object EMail {\n",
    "\n",
    "  /* Injection */\n",
    "  def apply(u: String, d: String) = s\"${u}@${d}\"\n",
    "\n",
    "  /* Extraction */\n",
    "  def unapply(s: String): Option[(String, String)] = {\n",
    "    println(\"EMail.unapply\")\n",
    "    var parts = s.split(\"@\")\n",
    "    if (parts.length == 2) Some(parts(0), parts(1)) else None\n",
    "  }\n",
    "}\n",
    "\n",
    "/* Extraction */\n",
    "object UpperCase {\n",
    "  def unapply(s: String): Boolean = {\n",
    "    println(\"UpperCase.unapply\")\n",
    "    s == s.toUpperCase()\n",
    "  }\n",
    "}\n",
    "\n",
    "\"Test@test.com\" match {\n",
    "  case EMail(user @ UpperCase(), domain) => println(user, domain) /* 注意：UpperCase 後面一定要加 () (括號) */\n",
    "  case _ => println(\"not match\")\n",
    "}\n",
    "\n",
    "\"TEST@test.com\" match {\n",
    "  case EMail(user @ UpperCase(), domain) => println(user, domain)\n",
    "  case _ => println(\"not match\")\n",
    "}"
   ]
  },
  {
   "cell_type": "code",
   "execution_count": 59,
   "metadata": {},
   "outputs": [
    {
     "name": "stdout",
     "output_type": "stream",
     "text": [
      "UpperCase.unapply\n",
      "t  TTTTT"
     ]
    },
    {
     "data": {
      "text/plain": [
       "\u001b[36muser\u001b[39m: \u001b[32mString\u001b[39m = \u001b[32m\"TTTTT\"\u001b[39m\n",
       "defined \u001b[32mobject\u001b[39m \u001b[36mUpperCase\u001b[39m"
      ]
     },
     "execution_count": 59,
     "metadata": {},
     "output_type": "execute_result"
    }
   ],
   "source": [
    "//unapply\n",
    "\n",
    "val user = \"TTTTT\"\n",
    "\n",
    "object UpperCase {\n",
    "  def unapply(s: String): Boolean = {\n",
    "    println(\"UpperCase.unapply\")\n",
    "    s == s.toUpperCase()\n",
    "  }\n",
    "}\n",
    "\n",
    "user match{\n",
    "    case s @ UpperCase() => print(\"t  \" + s)\n",
    "    case _ => print(\"f  \" + s)\n",
    "}\n"
   ]
  },
  {
   "cell_type": "code",
   "execution_count": 60,
   "metadata": {},
   "outputs": [
    {
     "name": "stdout",
     "output_type": "stream",
     "text": [
      "10\n",
      "not match\n"
     ]
    },
    {
     "data": {
      "text/plain": [
       "defined \u001b[32mclass\u001b[39m \u001b[36mBetween\u001b[39m\n",
       "\u001b[36mbetween5and15\u001b[39m: \u001b[32mBetween\u001b[39m = $sess.cmd59Wrapper$Helper$Between@19a0e388"
      ]
     },
     "execution_count": 60,
     "metadata": {},
     "output_type": "execute_result"
    }
   ],
   "source": [
    "//unapplySeq\n",
    "\n",
    "class Between(val min: Int, val max: Int) {\n",
    "\n",
    "  def unapplySeq(value: Int): Option[List[Int]] =\n",
    "    if (min <= value && value <= max) Some(List(min, value, max))\n",
    "    else None\n",
    "}\n",
    "\n",
    "val between5and15 = new Between(5, 15)\n",
    "\n",
    "10 match {\n",
    "    case between5and15(min, value, max) => println(value)\n",
    "    case _ => println(\"not match\")\n",
    "}\n",
    "\n",
    "20 match {\n",
    "    case between5and15(min, value, max) => println(value)\n",
    "    case _ => println(\"not match\")\n",
    "}"
   ]
  },
  {
   "cell_type": "code",
   "execution_count": null,
   "metadata": {
    "collapsed": true
   },
   "outputs": [],
   "source": []
  }
 ],
 "metadata": {
  "kernelspec": {
   "display_name": "Scala",
   "language": "scala",
   "name": "scala"
  },
  "language_info": {
   "codemirror_mode": "text/x-scala",
   "file_extension": ".scala",
   "mimetype": "text/x-scala",
   "name": "scala211",
   "nbconvert_exporter": "script",
   "pygments_lexer": "scala",
   "version": "2.11.11"
  }
 },
 "nbformat": 4,
 "nbformat_minor": 2
}
