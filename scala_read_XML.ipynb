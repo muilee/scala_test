{
 "cells": [
  {
   "cell_type": "code",
   "execution_count": 1,
   "metadata": {},
   "outputs": [
    {
     "data": {
      "text/plain": [
       "\u001b[32mimport \u001b[39m\u001b[36mscala.io.Source\n",
       "\u001b[39m\n",
       "\u001b[32mimport \u001b[39m\u001b[36mscala.xml.XML\n",
       "\n",
       "\u001b[39m\n",
       "\u001b[36mdoc\u001b[39m: \u001b[32mxml\u001b[39m.\u001b[32mElem\u001b[39m = \u001b[33mElem\u001b[39m(\n",
       "  <rooms>\n",
       "\t<room keyword=\"inn\" name=\"The Inn\">\n",
       "\t\t<description>\n",
       "You are standing in a shabby inn.\n",
       "\t\t</description>\n",
       "\t\t<exit dest=\"square\" dir=\"south\"/>\n",
       "\t\t<item name=\"cup\">\n",
       "\t\t\t<description>A dirty, chipped, ceramic cup</description>\n",
       "\t\t</item>\n",
       "\t</room>\n",
       "\t<room keyword=\"square\" name=\"Town Square\">\n",
       "\u001b[33m...\u001b[39m"
      ]
     },
     "execution_count": 1,
     "metadata": {},
     "output_type": "execute_result"
    }
   ],
   "source": [
    "import scala.xml.XML\n",
    "\n",
    "val doc = XML.loadFile(\"map.xml\")"
   ]
  },
  {
   "cell_type": "code",
   "execution_count": 28,
   "metadata": {},
   "outputs": [
    {
     "data": {
      "text/plain": [
       "\u001b[36mrooms\u001b[39m: \u001b[32mxml\u001b[39m.\u001b[32mNodeSeq\u001b[39m = \u001b[33mNodeSeq\u001b[39m(\n",
       "  <room keyword=\"inn\" name=\"The Inn\">\n",
       "\t\t<description>\n",
       "You are standing in a shabby inn.\n",
       "\t\t</description>\n",
       "\t\t<exit dest=\"square\" dir=\"south\"/>\n",
       "\t\t<item name=\"cup\">\n",
       "\t\t\t<description>A dirty, chipped, ceramic cup</description>\n",
       "\t\t</item>\n",
       "\t</room>,\n",
       "  <room keyword=\"square\" name=\"Town Square\">\n",
       "\t\t<description>\n",
       "\u001b[33m...\u001b[39m"
      ]
     },
     "execution_count": 28,
     "metadata": {},
     "output_type": "execute_result"
    }
   ],
   "source": [
    "val rooms = doc \\ \"room\""
   ]
  },
  {
   "cell_type": "code",
   "execution_count": 30,
   "metadata": {},
   "outputs": [
    {
     "name": "stdout",
     "output_type": "stream",
     "text": [
      "<room keyword=\"inn\" name=\"The Inn\">\n",
      "\t\t<description>\n",
      "You are standing in a shabby inn.\n",
      "\t\t</description>\n",
      "\t\t<exit dest=\"square\" dir=\"south\"/>\n",
      "\t\t<item name=\"cup\">\n",
      "\t\t\t<description>A dirty, chipped, ceramic cup</description>\n",
      "\t\t</item>\n",
      "\t</room><room keyword=\"square\" name=\"Town Square\">\n",
      "\t\t<description>\n",
      "This is the town square.\n",
      "\t\t</description>\n",
      "\t\t<exit dest=\"inn\" dir=\"north\"/>\n",
      "\t</room>"
     ]
    }
   ],
   "source": [
    "rooms.foreach(print)"
   ]
  },
  {
   "cell_type": "code",
   "execution_count": 46,
   "metadata": {},
   "outputs": [
    {
     "data": {
      "text/plain": [
       "\u001b[36mfirstRoom\u001b[39m: \u001b[32mxml\u001b[39m.\u001b[32mNode\u001b[39m = \u001b[33mElem\u001b[39m(\n",
       "  <room keyword=\"inn\" name=\"The Inn\">\n",
       "\t\t<description>\n",
       "You are standing in a shabby inn.\n",
       "\t\t</description>\n",
       "\t\t<exit dest=\"square\" dir=\"south\"/>\n",
       "\t\t<item name=\"cup\">\n",
       "\t\t\t<description>A dirty, chipped, ceramic cup</description>\n",
       "\t\t</item>\n",
       "\t</room>\n",
       ")\n",
       "\u001b[36mfirstRoomName\u001b[39m: \u001b[32mxml\u001b[39m.\u001b[32mNode\u001b[39m = \u001b[33mText\u001b[39m(The Inn)\n",
       "\u001b[36mres45_2\u001b[39m: \u001b[32mString\u001b[39m = \u001b[32m\"The Inn\"\u001b[39m"
      ]
     },
     "execution_count": 46,
     "metadata": {},
     "output_type": "execute_result"
    }
   ],
   "source": [
    "val firstRoom = rooms(0)\n",
    "val firstRoomName = (firstRoom \\ \"@name\")(0)\n",
    "firstRoomName.text"
   ]
  },
  {
   "cell_type": "code",
   "execution_count": 47,
   "metadata": {},
   "outputs": [
    {
     "data": {
      "text/plain": [
       "\u001b[36mfirstRoomKeyword\u001b[39m: \u001b[32mxml\u001b[39m.\u001b[32mNode\u001b[39m = \u001b[33mText\u001b[39m(inn)\n",
       "\u001b[36mres46_1\u001b[39m: \u001b[32mString\u001b[39m = \u001b[32m\"inn\"\u001b[39m"
      ]
     },
     "execution_count": 47,
     "metadata": {},
     "output_type": "execute_result"
    }
   ],
   "source": [
    "val firstRoomKeyword = (firstRoom \\ \"@keyword\")(0)\n",
    "firstRoomKeyword.text"
   ]
  },
  {
   "cell_type": "code",
   "execution_count": 50,
   "metadata": {},
   "outputs": [
    {
     "data": {
      "text/plain": [
       "\u001b[36mfirstRoomDescription\u001b[39m: \u001b[32mxml\u001b[39m.\u001b[32mNode\u001b[39m = \u001b[33mElem\u001b[39m(\n",
       "  <description>\n",
       "You are standing in a shabby inn.\n",
       "\t\t</description>\n",
       ")\n",
       "\u001b[36mres49_1\u001b[39m: \u001b[32mString\u001b[39m = \u001b[32m\"\"\"\n",
       "\n",
       "You are standing in a shabby inn.\n",
       "\t\t\n",
       "\"\"\"\u001b[39m"
      ]
     },
     "execution_count": 50,
     "metadata": {},
     "output_type": "execute_result"
    }
   ],
   "source": [
    "val firstRoomDescription = (firstRoom \\ \"description\")(0)\n",
    "firstRoomDescription.text"
   ]
  },
  {
   "cell_type": "code",
   "execution_count": 54,
   "metadata": {},
   "outputs": [
    {
     "data": {
      "text/plain": [
       "\u001b[36mfirstRoomExit\u001b[39m: \u001b[32mxml\u001b[39m.\u001b[32mNode\u001b[39m = \u001b[33mElem\u001b[39m(<exit dest=\"square\" dir=\"south\"/>)\n",
       "\u001b[36mres53_1\u001b[39m: \u001b[32mxml\u001b[39m.\u001b[32mNodeSeq\u001b[39m = \u001b[33mGroup\u001b[39m(square)"
      ]
     },
     "execution_count": 54,
     "metadata": {},
     "output_type": "execute_result"
    }
   ],
   "source": [
    "val firstRoomExit = (firstRoom \\ \"exit\")(0)\n",
    "firstRoomExit \\ \"@dest\""
   ]
  },
  {
   "cell_type": "code",
   "execution_count": null,
   "metadata": {
    "collapsed": true
   },
   "outputs": [],
   "source": []
  }
 ],
 "metadata": {
  "kernelspec": {
   "display_name": "Scala",
   "language": "scala",
   "name": "scala"
  },
  "language_info": {
   "codemirror_mode": "text/x-scala",
   "file_extension": ".scala",
   "mimetype": "text/x-scala",
   "name": "scala211",
   "nbconvert_exporter": "script",
   "pygments_lexer": "scala",
   "version": "2.11.11"
  }
 },
 "nbformat": 4,
 "nbformat_minor": 2
}
