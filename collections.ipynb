{
 "cells": [
  {
   "cell_type": "code",
   "execution_count": 14,
   "metadata": {},
   "outputs": [
    {
     "data": {
      "text/plain": [
       "\u001b[36marr1\u001b[39m: \u001b[32mArray\u001b[39m[\u001b[32mInt\u001b[39m] = \u001b[33mArray\u001b[39m(\u001b[32m1\u001b[39m, \u001b[32m2\u001b[39m, \u001b[32m3\u001b[39m)\n",
       "\u001b[36marr2\u001b[39m: \u001b[32mArray\u001b[39m[\u001b[32mString\u001b[39m] = \u001b[33mArray\u001b[39m(\u001b[32m\"a\"\u001b[39m, \u001b[32m\"b\"\u001b[39m, \u001b[32m\"c\"\u001b[39m)\n",
       "\u001b[36marr3\u001b[39m: \u001b[32mArray\u001b[39m[\u001b[32mDouble\u001b[39m] = \u001b[33mArray\u001b[39m(\u001b[32m0.8712017109261369\u001b[39m, \u001b[32m0.0924337707194357\u001b[39m, \u001b[32m0.7730104343289814\u001b[39m)\n",
       "defined \u001b[32mclass\u001b[39m \u001b[36mTest\u001b[39m\n",
       "\u001b[36marrTest\u001b[39m: \u001b[32mArray\u001b[39m[\u001b[32mwrapper\u001b[39m.\u001b[32mwrapper\u001b[39m.\u001b[32mTest\u001b[39m] = \u001b[33mArray\u001b[39m(null, null, null)\n",
       "\u001b[36mres13_5\u001b[39m: \u001b[32mInt\u001b[39m = \u001b[32m2\u001b[39m"
      ]
     },
     "execution_count": 14,
     "metadata": {},
     "output_type": "execute_result"
    }
   ],
   "source": [
    "val arr1 = Array(1, 2, 3)\n",
    "val arr2 = Array(\"a\", \"b\", \"c\")\n",
    "val arr3 = Array.fill(3) { math.random }\n",
    "\n",
    "class Test\n",
    "val arrTest = Array.fill[Test](3) { null }\n",
    "arr1(1)"
   ]
  },
  {
   "cell_type": "code",
   "execution_count": 9,
   "metadata": {},
   "outputs": [
    {
     "name": "stdout",
     "output_type": "stream",
     "text": [
      "red\n",
      "List(blue, green)\n",
      "blue\n",
      "green\n",
      "List(red, blue)\n",
      "3\n",
      "red,blue,green\n",
      "[red],[blue],[green]\n"
     ]
    },
    {
     "data": {
      "text/plain": [
       "\u001b[36mcolors\u001b[39m: \u001b[32mList\u001b[39m[\u001b[32mString\u001b[39m] = \u001b[33mList\u001b[39m(\u001b[32m\"red\"\u001b[39m, \u001b[32m\"blue\"\u001b[39m, \u001b[32m\"green\"\u001b[39m)"
      ]
     },
     "execution_count": 9,
     "metadata": {},
     "output_type": "execute_result"
    }
   ],
   "source": [
    "val colors = List(\"red\", \"blue\", \"green\")\n",
    "\n",
    "println(colors.head)\n",
    "println(colors.tail)\n",
    "println(colors(1))\n",
    "println(colors.last)\n",
    "println(colors.init)\n",
    "println(colors.length)\n",
    "println(colors.mkString(\",\"))\n",
    "println(colors.mkString(\"[\", \"],[\", \"]\"))"
   ]
  },
  {
   "cell_type": "code",
   "execution_count": 13,
   "metadata": {},
   "outputs": [
    {
     "name": "stdout",
     "output_type": "stream",
     "text": [
      "List(yellow, red, blue, green)\n",
      "List(yellow, red, blue, green)\n",
      "List(yellow, red, blue, green, white)\n",
      "List(yellow, red, blue, green, red, blue, green)\n",
      "List(yellow, red, blue, green, red, blue, green)\n",
      "List(yellow, red, blue, green, red, blue, green)\n"
     ]
    },
    {
     "data": {
      "text/plain": [
       "\u001b[36mcolors2\u001b[39m: \u001b[32mList\u001b[39m[\u001b[32mString\u001b[39m] = \u001b[33mList\u001b[39m(\u001b[32m\"yellow\"\u001b[39m, \u001b[32m\"red\"\u001b[39m, \u001b[32m\"blue\"\u001b[39m, \u001b[32m\"green\"\u001b[39m)"
      ]
     },
     "execution_count": 13,
     "metadata": {},
     "output_type": "execute_result"
    }
   ],
   "source": [
    "val colors2 = \"yellow\" +: colors\n",
    "\n",
    "println(\"yellow\" +: colors)\n",
    "println(\"yellow\" :: colors)\n",
    "\n",
    "println(colors2 :+ \"white\")\n",
    "println(colors2 ++: colors)\n",
    "println(colors2 ::: colors)\n",
    "println(colors2 ++ colors)"
   ]
  },
  {
   "cell_type": "code",
   "execution_count": 14,
   "metadata": {
    "collapsed": true
   },
   "outputs": [],
   "source": [
    "//Right Operator :，Scala 定義 Operator，如果結尾是 :，就當作 Right Operator 處理。\n",
    "//一般熟悉的是 Left Operator。eg: a + b，實際是 a.+(b)；Right Operator 是 a +: b，則是 b.+:(a)\n",
    "// + 用在加單一元素\n",
    "// ++ 用在加一個 collection\n",
    "// 只有 mutable 集合有類似 +=, ++=, -=, --="
   ]
  },
  {
   "cell_type": "code",
   "execution_count": 16,
   "metadata": {},
   "outputs": [
    {
     "name": "stdout",
     "output_type": "stream",
     "text": [
      "false\n",
      "List(yellow, green, green)\n",
      "3\n"
     ]
    },
    {
     "data": {
      "text/plain": [
       "\u001b[36mcolors4\u001b[39m: \u001b[32mList\u001b[39m[\u001b[32mString\u001b[39m] = \u001b[33mList\u001b[39m(\u001b[32m\"yellow\"\u001b[39m, \u001b[32m\"red\"\u001b[39m, \u001b[32m\"blue\"\u001b[39m, \u001b[32m\"green\"\u001b[39m, \u001b[32m\"red\"\u001b[39m, \u001b[32m\"blue\"\u001b[39m, \u001b[32m\"green\"\u001b[39m)"
      ]
     },
     "execution_count": 16,
     "metadata": {},
     "output_type": "execute_result"
    }
   ],
   "source": [
    "val colors4 = colors2 ++: colors\n",
    "\n",
    "println(colors4.isEmpty)\n",
    "println(colors4 filter { _.length > 4 })\n",
    "println(colors4 count { _.length > 4 })"
   ]
  },
  {
   "cell_type": "code",
   "execution_count": 17,
   "metadata": {},
   "outputs": [
    {
     "data": {
      "text/plain": [
       "\u001b[36mres16\u001b[39m: \u001b[32mList\u001b[39m[\u001b[32mString\u001b[39m] = \u001b[33mList\u001b[39m(\u001b[32m\"red\"\u001b[39m, \u001b[32m\"blue\"\u001b[39m, \u001b[32m\"green\"\u001b[39m, \u001b[32m\"red\"\u001b[39m, \u001b[32m\"blue\"\u001b[39m, \u001b[32m\"green\"\u001b[39m)"
      ]
     },
     "execution_count": 17,
     "metadata": {},
     "output_type": "execute_result"
    }
   ],
   "source": [
    "colors4 dropWhile { _.length > 4 }"
   ]
  },
  {
   "cell_type": "code",
   "execution_count": 18,
   "metadata": {},
   "outputs": [
    {
     "data": {
      "text/plain": [
       "\u001b[36mres17\u001b[39m: \u001b[32mList\u001b[39m[\u001b[32mString\u001b[39m] = \u001b[33mList\u001b[39m(\u001b[32m\"yellow\"\u001b[39m)"
      ]
     },
     "execution_count": 18,
     "metadata": {},
     "output_type": "execute_result"
    }
   ],
   "source": [
    "colors4 takeWhile { _.length > 4 }"
   ]
  },
  {
   "cell_type": "code",
   "execution_count": 20,
   "metadata": {},
   "outputs": [
    {
     "data": {
      "text/plain": [
       "\u001b[36mres19\u001b[39m: \u001b[32mList\u001b[39m[\u001b[32mString\u001b[39m] = \u001b[33mList\u001b[39m(\u001b[32m\"yellowyellow\"\u001b[39m, \u001b[32m\"greengreen\"\u001b[39m, \u001b[32m\"greengreen\"\u001b[39m)"
      ]
     },
     "execution_count": 20,
     "metadata": {},
     "output_type": "execute_result"
    }
   ],
   "source": [
    "// must use case\n",
    "\n",
    "colors4 collect { case x if x.length > 4 => x + x }"
   ]
  },
  {
   "cell_type": "code",
   "execution_count": 23,
   "metadata": {},
   "outputs": [
    {
     "data": {
      "text/plain": [
       "\u001b[36mcolors4\u001b[39m: \u001b[32mList\u001b[39m[\u001b[32mString\u001b[39m] = \u001b[33mList\u001b[39m(\u001b[32m\"yellow\"\u001b[39m, \u001b[32m\"red\"\u001b[39m, \u001b[32m\"blue\"\u001b[39m, \u001b[32m\"green\"\u001b[39m, \u001b[32m\"red\"\u001b[39m)\n",
       "\u001b[36mres22_1\u001b[39m: \u001b[32mOption\u001b[39m[\u001b[32mString\u001b[39m] = \u001b[33mSome\u001b[39m(\u001b[32m\"red\"\u001b[39m)\n",
       "\u001b[36mres22_2\u001b[39m: \u001b[32mOption\u001b[39m[\u001b[32mString\u001b[39m] = None"
      ]
     },
     "execution_count": 23,
     "metadata": {},
     "output_type": "execute_result"
    }
   ],
   "source": [
    "val colors4 = List(\"yellow\", \"red\", \"blue\", \"green\", \"red\")\n",
    "\n",
    "colors4.find { _ == \"red\" }\n",
    "colors4 find { _ == \"black\" }"
   ]
  },
  {
   "cell_type": "code",
   "execution_count": 24,
   "metadata": {},
   "outputs": [
    {
     "data": {
      "text/plain": [
       "\u001b[36mres23\u001b[39m: \u001b[32mOption\u001b[39m[\u001b[32mString\u001b[39m] = \u001b[33mSome\u001b[39m(\u001b[32m\"redred\"\u001b[39m)"
      ]
     },
     "execution_count": 24,
     "metadata": {},
     "output_type": "execute_result"
    }
   ],
   "source": [
    "colors4.collectFirst { case x if (x.length == 3) => x + x }"
   ]
  },
  {
   "cell_type": "code",
   "execution_count": 36,
   "metadata": {},
   "outputs": [
    {
     "data": {
      "text/plain": [
       "\u001b[36mres35_0\u001b[39m: \u001b[32mInt\u001b[39m = \u001b[32m1\u001b[39m\n",
       "\u001b[36mres35_1\u001b[39m: \u001b[32mInt\u001b[39m = \u001b[32m4\u001b[39m\n",
       "\u001b[36mres35_2\u001b[39m: \u001b[32mInt\u001b[39m = \u001b[32m-1\u001b[39m\n",
       "\u001b[36mres35_3\u001b[39m: \u001b[32mInt\u001b[39m = \u001b[32m4\u001b[39m\n",
       "\u001b[36mres35_4\u001b[39m: \u001b[32mInt\u001b[39m = \u001b[32m1\u001b[39m"
      ]
     },
     "execution_count": 36,
     "metadata": {},
     "output_type": "execute_result"
    }
   ],
   "source": [
    "colors4.indexWhere( _ == \"red\")\n",
    "colors4.indexWhere( _ == \"red\", 3) // start from index = 3\n",
    "\n",
    "colors4.indexWhere( _ == \"black\", 2)\n",
    "colors4.lastIndexWhere( _ == \"red\")\n",
    "colors4.lastIndexWhere( _ == \"red\", 3) // end with index = 3"
   ]
  },
  {
   "cell_type": "code",
   "execution_count": 39,
   "metadata": {},
   "outputs": [
    {
     "data": {
      "text/plain": [
       "\u001b[32mimport \u001b[39m\u001b[36mscala.collection.mutable\n",
       "\n",
       "\u001b[39m\n",
       "\u001b[36mlist\u001b[39m: \u001b[32mmutable\u001b[39m.\u001b[32mListBuffer\u001b[39m[\u001b[32mString\u001b[39m] = \u001b[33mListBuffer\u001b[39m()\n",
       "\u001b[36mlist1\u001b[39m: \u001b[32mNil\u001b[39m.type = \u001b[33mList\u001b[39m()"
      ]
     },
     "execution_count": 39,
     "metadata": {},
     "output_type": "execute_result"
    }
   ],
   "source": [
    "import scala.collection.mutable\n",
    "\n",
    "val list = mutable.ListBuffer.empty[String]\n",
    "val list1 = List.empty[String] // Nil\n"
   ]
  },
  {
   "cell_type": "code",
   "execution_count": 42,
   "metadata": {},
   "outputs": [
    {
     "name": "stdout",
     "output_type": "stream",
     "text": [
      "ListBuffer(a, b, c)\n",
      "ListBuffer(a, b, c, d)\n",
      "ListBuffer(e, a, b, c, d)\n"
     ]
    },
    {
     "data": {
      "text/plain": [
       "\u001b[36mlist\u001b[39m: \u001b[32mmutable\u001b[39m.\u001b[32mListBuffer\u001b[39m[\u001b[32mString\u001b[39m] = \u001b[33mListBuffer\u001b[39m(\u001b[32m\"e\"\u001b[39m, \u001b[32m\"a\"\u001b[39m, \u001b[32m\"b\"\u001b[39m, \u001b[32m\"c\"\u001b[39m, \u001b[32m\"d\"\u001b[39m)"
      ]
     },
     "execution_count": 42,
     "metadata": {},
     "output_type": "execute_result"
    }
   ],
   "source": [
    "val list = mutable.ListBuffer(\"a\", \"b\", \"c\")\n",
    "println(list)\n",
    "println(list += \"d\")\n",
    "println(\"e\" +=: list)"
   ]
  },
  {
   "cell_type": "code",
   "execution_count": 43,
   "metadata": {},
   "outputs": [
    {
     "data": {
      "text/plain": [
       "\u001b[36mres42_0\u001b[39m: \u001b[32mRange\u001b[39m.\u001b[32mInclusive\u001b[39m = \u001b[33mRange\u001b[39m(\u001b[32m1\u001b[39m, \u001b[32m2\u001b[39m, \u001b[32m3\u001b[39m, \u001b[32m4\u001b[39m, \u001b[32m5\u001b[39m, \u001b[32m6\u001b[39m, \u001b[32m7\u001b[39m, \u001b[32m8\u001b[39m, \u001b[32m9\u001b[39m, \u001b[32m10\u001b[39m)\n",
       "\u001b[36mres42_1\u001b[39m: \u001b[32mRange\u001b[39m = \u001b[33mRange\u001b[39m(\u001b[32m1\u001b[39m, \u001b[32m2\u001b[39m, \u001b[32m3\u001b[39m, \u001b[32m4\u001b[39m, \u001b[32m5\u001b[39m, \u001b[32m6\u001b[39m, \u001b[32m7\u001b[39m, \u001b[32m8\u001b[39m, \u001b[32m9\u001b[39m)"
      ]
     },
     "execution_count": 43,
     "metadata": {},
     "output_type": "execute_result"
    }
   ],
   "source": [
    "1 to 10\n",
    "1 until 10"
   ]
  },
  {
   "cell_type": "code",
   "execution_count": 44,
   "metadata": {},
   "outputs": [
    {
     "name": "stdout",
     "output_type": "stream",
     "text": [
      "3\n",
      "Set(c, d, a, b)\n",
      "Set(f, c, d, e, a, b)\n",
      "Set(f, c, d, e, b)\n",
      "false\n",
      "true\n"
     ]
    },
    {
     "data": {
      "text/plain": [
       "\u001b[36mset\u001b[39m: \u001b[32mmutable\u001b[39m.\u001b[32mSet\u001b[39m[\u001b[32mChar\u001b[39m] = \u001b[33mSet\u001b[39m(\u001b[32m'f'\u001b[39m, \u001b[32m'c'\u001b[39m, \u001b[32m'd'\u001b[39m, \u001b[32m'e'\u001b[39m, \u001b[32m'b'\u001b[39m)"
      ]
     },
     "execution_count": 44,
     "metadata": {},
     "output_type": "execute_result"
    }
   ],
   "source": [
    "val set = mutable.Set('a', 'b', 'c')\n",
    "println(set.size)\n",
    "println(set += 'd')\n",
    "println(set ++= mutable.Set('a', 'b', 'e', 'f'))\n",
    "println(set -= 'a')\n",
    "println(set('a'))\n",
    "println(set('b'))"
   ]
  },
  {
   "cell_type": "code",
   "execution_count": 51,
   "metadata": {},
   "outputs": [
    {
     "data": {
      "text/plain": [
       "\u001b[36mmap1\u001b[39m: \u001b[32mmutable\u001b[39m.\u001b[32mHashMap\u001b[39m[\u001b[32mString\u001b[39m, \u001b[32mInt\u001b[39m] = \u001b[33mMap\u001b[39m()\n",
       "\u001b[36mmap\u001b[39m: \u001b[32mmutable\u001b[39m.\u001b[32mHashMap\u001b[39m[\u001b[32mString\u001b[39m, \u001b[32mInt\u001b[39m] = \u001b[33mMap\u001b[39m(\u001b[32m\"ii\"\u001b[39m -> \u001b[32m2\u001b[39m, \u001b[32m\"i\"\u001b[39m -> \u001b[32m1\u001b[39m)"
      ]
     },
     "execution_count": 51,
     "metadata": {},
     "output_type": "execute_result"
    }
   ],
   "source": [
    "val map1 = mutable.HashMap.empty[String, Int]\n",
    "val map = mutable.HashMap(\"i\" -> 1, \"ii\" -> 2)"
   ]
  },
  {
   "cell_type": "code",
   "execution_count": 52,
   "metadata": {},
   "outputs": [
    {
     "name": "stdout",
     "output_type": "stream",
     "text": [
      "2\n",
      "Set(ii, i)\n",
      "Set(ii, i)\n",
      "HashMap(2, 1)\n",
      "Map(ii -> 2, i -> 1, iii -> 3)\n"
     ]
    }
   ],
   "source": [
    "println(map.size)\n",
    "println(map.keys)\n",
    "println(map.keySet)\n",
    "println(map.values)\n",
    "println(map += (\"iii\" -> 3))"
   ]
  },
  {
   "cell_type": "code",
   "execution_count": 53,
   "metadata": {},
   "outputs": [
    {
     "data": {
      "text/plain": [
       "\u001b[36mres52\u001b[39m: \u001b[32mmutable\u001b[39m.\u001b[32mHashMap\u001b[39m[\u001b[32mString\u001b[39m, \u001b[32mInt\u001b[39m] = \u001b[33mMap\u001b[39m(\u001b[32m\"ii\"\u001b[39m -> \u001b[32m2\u001b[39m, \u001b[32m\"iii\"\u001b[39m -> \u001b[32m3\u001b[39m)"
      ]
     },
     "execution_count": 53,
     "metadata": {},
     "output_type": "execute_result"
    }
   ],
   "source": [
    "map -= (\"i\")"
   ]
  },
  {
   "cell_type": "code",
   "execution_count": 54,
   "metadata": {},
   "outputs": [
    {
     "data": {
      "text/plain": [
       "\u001b[36mres53\u001b[39m: \u001b[32mInt\u001b[39m = \u001b[32m3\u001b[39m"
      ]
     },
     "execution_count": 54,
     "metadata": {},
     "output_type": "execute_result"
    }
   ],
   "source": [
    "map(\"iii\")"
   ]
  },
  {
   "cell_type": "code",
   "execution_count": 56,
   "metadata": {},
   "outputs": [
    {
     "ename": "",
     "evalue": "",
     "output_type": "error",
     "traceback": [
      "\u001b[31mjava.util.NoSuchElementException: key not found: iiii\u001b[39m",
      "  scala.collection.MapLike$class.default(\u001b[32mMapLike.scala\u001b[39m:\u001b[32m228\u001b[39m)",
      "  scala.collection.AbstractMap.default(\u001b[32mMap.scala\u001b[39m:\u001b[32m59\u001b[39m)",
      "  scala.collection.mutable.HashMap.apply(\u001b[32mHashMap.scala\u001b[39m:\u001b[32m65\u001b[39m)",
      "  $sess.cmd55Wrapper$Helper.<init>(\u001b[32mcmd55.sc\u001b[39m:\u001b[32m1\u001b[39m)",
      "  $sess.cmd55Wrapper.<init>(\u001b[32mcmd55.sc\u001b[39m:\u001b[32m672\u001b[39m)",
      "  $sess.cmd55$.<init>(\u001b[32mcmd55.sc\u001b[39m:\u001b[32m360\u001b[39m)",
      "  $sess.cmd55$.<clinit>(\u001b[32mcmd55.sc\u001b[39m:\u001b[32m-1\u001b[39m)"
     ]
    }
   ],
   "source": [
    "// map(\"iiii\") cause java.util.NoSuchElementException\n",
    "map.get(\"iiii\")"
   ]
  },
  {
   "cell_type": "code",
   "execution_count": null,
   "metadata": {
    "collapsed": true
   },
   "outputs": [],
   "source": []
  }
 ],
 "metadata": {
  "kernelspec": {
   "display_name": "Scala",
   "language": "scala",
   "name": "scala"
  },
  "language_info": {
   "codemirror_mode": "text/x-scala",
   "file_extension": ".scala",
   "mimetype": "text/x-scala",
   "name": "scala211",
   "nbconvert_exporter": "script",
   "pygments_lexer": "scala",
   "version": "2.11.11"
  }
 },
 "nbformat": 4,
 "nbformat_minor": 2
}
