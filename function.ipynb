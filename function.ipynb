{
 "cells": [
  {
   "cell_type": "code",
   "execution_count": 1,
   "metadata": {},
   "outputs": [
    {
     "data": {
      "text/plain": [
       "\u001b[36mf\u001b[39m: \u001b[32mInt\u001b[39m => \u001b[32mInt\u001b[39m = <function1>\n",
       "\u001b[36mg\u001b[39m: \u001b[32mInt\u001b[39m => \u001b[32mInt\u001b[39m = <function1>\n",
       "\u001b[36mgoff\u001b[39m: \u001b[32mInt\u001b[39m => \u001b[32mInt\u001b[39m = <function1>\n",
       "\u001b[36mfofg\u001b[39m: \u001b[32mInt\u001b[39m => \u001b[32mInt\u001b[39m = <function1>\n",
       "\u001b[36mres0_4\u001b[39m: \u001b[32mInt\u001b[39m = \u001b[32m101\u001b[39m\n",
       "\u001b[36mres0_5\u001b[39m: \u001b[32mInt\u001b[39m = \u001b[32m121\u001b[39m"
      ]
     },
     "execution_count": 1,
     "metadata": {},
     "output_type": "execute_result"
    }
   ],
   "source": [
    "val f = (x: Int) => x * x\n",
    "val g = (x: Int) => x + 1\n",
    "\n",
    "val goff = f andThen g\n",
    "val fofg = f compose g\n",
    "\n",
    "goff(10)\n",
    "fofg(10)"
   ]
  },
  {
   "cell_type": "code",
   "execution_count": 2,
   "metadata": {},
   "outputs": [
    {
     "data": {
      "text/plain": [
       "defined \u001b[32mfunction\u001b[39m \u001b[36mf\u001b[39m\n",
       "defined \u001b[32mfunction\u001b[39m \u001b[36mg\u001b[39m\n",
       "\u001b[36mres1_2\u001b[39m: \u001b[32mInt\u001b[39m => \u001b[32mInt\u001b[39m = <function1>"
      ]
     },
     "execution_count": 2,
     "metadata": {},
     "output_type": "execute_result"
    }
   ],
   "source": [
    "// using _ and change the method to function\n",
    "\n",
    "def f(x: Int) = x * x\n",
    "def g(x: Int) = x + 1\n",
    "\n",
    "f _ andThen g _"
   ]
  },
  {
   "cell_type": "code",
   "execution_count": 3,
   "metadata": {},
   "outputs": [
    {
     "data": {
      "text/plain": [
       "defined \u001b[32mfunction\u001b[39m \u001b[36msum\u001b[39m\n",
       "\u001b[36mb\u001b[39m: \u001b[32mInt\u001b[39m => \u001b[32mInt\u001b[39m = <function1>\n",
       "\u001b[36mres2_2\u001b[39m: \u001b[32mInt\u001b[39m = \u001b[32m6\u001b[39m"
      ]
     },
     "execution_count": 3,
     "metadata": {},
     "output_type": "execute_result"
    }
   ],
   "source": [
    "def sum(x: Int, y: Int, z: Int) = x + y + z\n",
    "\n",
    "val b = sum(1, _: Int, 3)\n",
    "b(2)"
   ]
  },
  {
   "cell_type": "code",
   "execution_count": 5,
   "metadata": {},
   "outputs": [
    {
     "name": "stdout",
     "output_type": "stream",
     "text": [
      "0\n",
      "2\n"
     ]
    },
    {
     "data": {
      "text/plain": [
       "defined \u001b[32mfunction\u001b[39m \u001b[36mf\u001b[39m"
      ]
     },
     "execution_count": 5,
     "metadata": {},
     "output_type": "execute_result"
    }
   ],
   "source": [
    "def f(x: Int)(y: Int) = y / x\n",
    "println(f(4)(2))\n",
    "println(f(2)(4))"
   ]
  },
  {
   "cell_type": "code",
   "execution_count": 8,
   "metadata": {},
   "outputs": [
    {
     "data": {
      "text/plain": [
       "\u001b[36mh\u001b[39m: \u001b[32mInt\u001b[39m => \u001b[32mInt\u001b[39m = <function1>\n",
       "\u001b[36mres7_1\u001b[39m: \u001b[32mInt\u001b[39m = \u001b[32m2\u001b[39m"
      ]
     },
     "execution_count": 8,
     "metadata": {},
     "output_type": "execute_result"
    }
   ],
   "source": [
    "val h = f(2) _\n",
    "h(4)"
   ]
  },
  {
   "cell_type": "code",
   "execution_count": 11,
   "metadata": {},
   "outputs": [
    {
     "data": {
      "text/plain": [
       "\u001b[36mnums\u001b[39m: \u001b[32mList\u001b[39m[\u001b[32mInt\u001b[39m] = \u001b[33mList\u001b[39m(\u001b[32m1\u001b[39m, \u001b[32m2\u001b[39m, \u001b[32m3\u001b[39m, \u001b[32m4\u001b[39m, \u001b[32m5\u001b[39m, \u001b[32m6\u001b[39m, \u001b[32m7\u001b[39m, \u001b[32m8\u001b[39m)\n",
       "defined \u001b[32mfunction\u001b[39m \u001b[36mmodN\u001b[39m\n",
       "\u001b[36mres10_2\u001b[39m: \u001b[32mList\u001b[39m[\u001b[32mInt\u001b[39m] = \u001b[33mList\u001b[39m(\u001b[32m2\u001b[39m, \u001b[32m4\u001b[39m, \u001b[32m6\u001b[39m, \u001b[32m8\u001b[39m)\n",
       "\u001b[36mres10_3\u001b[39m: \u001b[32mList\u001b[39m[\u001b[32mInt\u001b[39m] = \u001b[33mList\u001b[39m(\u001b[32m3\u001b[39m, \u001b[32m6\u001b[39m)"
      ]
     },
     "execution_count": 11,
     "metadata": {},
     "output_type": "execute_result"
    }
   ],
   "source": [
    "val nums = List(1, 2, 3, 4, 5, 6, 7, 8)\n",
    "def modN(n: Int)(x: Int) = ((x % n) == 0)\n",
    "\n",
    "nums filter {modN(2)}\n",
    "nums filter {modN(3)}"
   ]
  },
  {
   "cell_type": "code",
   "execution_count": 19,
   "metadata": {},
   "outputs": [
    {
     "data": {
      "text/plain": [
       "\u001b[36mone\u001b[39m: \u001b[32mPartialFunction\u001b[39m[\u001b[32mInt\u001b[39m, \u001b[32mString\u001b[39m] = <function1>\n",
       "\u001b[36mres18_1\u001b[39m: \u001b[32mString\u001b[39m = \u001b[32m\"one\"\u001b[39m\n",
       "\u001b[36mres18_2\u001b[39m: \u001b[32mBoolean\u001b[39m = \u001b[32mtrue\u001b[39m\n",
       "\u001b[36mres18_3\u001b[39m: \u001b[32mBoolean\u001b[39m = \u001b[32mfalse\u001b[39m"
      ]
     },
     "execution_count": 19,
     "metadata": {},
     "output_type": "execute_result"
    }
   ],
   "source": [
    "val one: PartialFunction[Int, String] = { case 1 => \"one\" }\n",
    "one(1)\n",
    "one.isDefinedAt(1)\n",
    "one.isDefinedAt(2)"
   ]
  },
  {
   "cell_type": "code",
   "execution_count": 20,
   "metadata": {},
   "outputs": [
    {
     "data": {
      "text/plain": [
       "\u001b[36mtwo\u001b[39m: \u001b[32mPartialFunction\u001b[39m[\u001b[32mInt\u001b[39m, \u001b[32mString\u001b[39m] = <function1>\n",
       "\u001b[36mthree\u001b[39m: \u001b[32mPartialFunction\u001b[39m[\u001b[32mInt\u001b[39m, \u001b[32mString\u001b[39m] = <function1>\n",
       "\u001b[36mwildcard\u001b[39m: \u001b[32mPartialFunction\u001b[39m[\u001b[32mInt\u001b[39m, \u001b[32mString\u001b[39m] = <function1>\n",
       "\u001b[36mpartial\u001b[39m: \u001b[32mPartialFunction\u001b[39m[\u001b[32mInt\u001b[39m, \u001b[32mString\u001b[39m] = <function1>\n",
       "\u001b[36mres19_4\u001b[39m: \u001b[32mString\u001b[39m = \u001b[32m\"something else\"\u001b[39m"
      ]
     },
     "execution_count": 20,
     "metadata": {},
     "output_type": "execute_result"
    }
   ],
   "source": [
    "val two: PartialFunction[Int, String] = { case 2 => \"two\" }\n",
    "val three: PartialFunction[Int, String] = { case 3 => \"three\" }\n",
    "val wildcard: PartialFunction[Int, String] = { case _ => \"something else\" }\n",
    "\n",
    "val partial = one orElse two orElse three orElse wildcard\n",
    "\n",
    "partial(5)"
   ]
  },
  {
   "cell_type": "code",
   "execution_count": null,
   "metadata": {
    "collapsed": true
   },
   "outputs": [],
   "source": []
  }
 ],
 "metadata": {
  "kernelspec": {
   "display_name": "Scala",
   "language": "scala",
   "name": "scala"
  },
  "language_info": {
   "codemirror_mode": "text/x-scala",
   "file_extension": ".scala",
   "mimetype": "text/x-scala",
   "name": "scala211",
   "nbconvert_exporter": "script",
   "pygments_lexer": "scala",
   "version": "2.11.11"
  }
 },
 "nbformat": 4,
 "nbformat_minor": 2
}
