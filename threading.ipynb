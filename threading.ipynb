{
 "cells": [
  {
   "cell_type": "markdown",
   "metadata": {},
   "source": [
    "# Thread"
   ]
  },
  {
   "cell_type": "code",
   "execution_count": 3,
   "metadata": {},
   "outputs": [
    {
     "name": "stdout",
     "output_type": "stream",
     "text": [
      "thread is runnung..\n"
     ]
    },
    {
     "data": {
      "text/plain": [
       "defined \u001b[32mclass\u001b[39m \u001b[36mThreadExample\u001b[39m\n",
       "\u001b[36mt\u001b[39m: \u001b[32mwrapper\u001b[39m.\u001b[32mwrapper\u001b[39m.\u001b[32mThreadExample\u001b[39m = Thread[Thread-21,5,]"
      ]
     },
     "execution_count": 3,
     "metadata": {},
     "output_type": "execute_result"
    }
   ],
   "source": [
    "// Thread\n",
    "\n",
    "class ThreadExample extends Thread{\n",
    "    override def run(){\n",
    "        println(\"thread is runnung..\");\n",
    "    }\n",
    "}\n",
    "\n",
    "var t = new ThreadExample()\n",
    "t.start()"
   ]
  },
  {
   "cell_type": "code",
   "execution_count": 4,
   "metadata": {},
   "outputs": [
    {
     "name": "stdout",
     "output_type": "stream",
     "text": [
      "thread is runnung..\n"
     ]
    },
    {
     "data": {
      "text/plain": [
       "defined \u001b[32mclass\u001b[39m \u001b[36mThreadExample\u001b[39m\n",
       "\u001b[36me\u001b[39m: \u001b[32mwrapper\u001b[39m.\u001b[32mwrapper\u001b[39m.\u001b[32mThreadExample\u001b[39m = $sess.cmd3Wrapper$Helper$ThreadExample@7d05fb44\n",
       "\u001b[36mt\u001b[39m: \u001b[32mThread\u001b[39m = Thread[Thread-22,5,]"
      ]
     },
     "execution_count": 4,
     "metadata": {},
     "output_type": "execute_result"
    }
   ],
   "source": [
    "class ThreadExample extends Runnable{\n",
    "    override def run(){\n",
    "        println(\"thread is runnung..\");\n",
    "    }\n",
    "}\n",
    "\n",
    "var e = new ThreadExample()\n",
    "var t = new Thread(e)\n",
    "t.start()"
   ]
  },
  {
   "cell_type": "code",
   "execution_count": 7,
   "metadata": {},
   "outputs": [
    {
     "name": "stdout",
     "output_type": "stream",
     "text": [
      "0\n",
      "0\n",
      "1\n",
      "1\n",
      "2\n",
      "2\n",
      "3\n",
      "3\n",
      "4\n",
      "4\n",
      "5\n",
      "5\n"
     ]
    },
    {
     "data": {
      "text/plain": [
       "defined \u001b[32mclass\u001b[39m \u001b[36mThreadExample\u001b[39m\n",
       "\u001b[36mt1\u001b[39m: \u001b[32mwrapper\u001b[39m.\u001b[32mwrapper\u001b[39m.\u001b[32mThreadExample\u001b[39m = Thread[Thread-27,5,]\n",
       "\u001b[36mt2\u001b[39m: \u001b[32mwrapper\u001b[39m.\u001b[32mwrapper\u001b[39m.\u001b[32mThreadExample\u001b[39m = Thread[Thread-28,5,]"
      ]
     },
     "execution_count": 7,
     "metadata": {},
     "output_type": "execute_result"
    }
   ],
   "source": [
    "class ThreadExample extends Thread{\n",
    "    override def run(){\n",
    "        for(i <- 0 to 5){\n",
    "            println(i)\n",
    "            Thread.sleep(300)\n",
    "        }\n",
    "    }\n",
    "}\n",
    "\n",
    "var t1 = new ThreadExample()\n",
    "var t2 = new ThreadExample()\n",
    "t1.start()\n",
    "t2.start()\n",
    "t1.join()\n",
    "t2.join()"
   ]
  },
  {
   "cell_type": "code",
   "execution_count": 8,
   "metadata": {},
   "outputs": [
    {
     "name": "stdout",
     "output_type": "stream",
     "text": [
      "First Thread - 0\n",
      "Thread-30 - 0\n",
      "First Thread - 1\n",
      "Thread-30 - 1\n",
      "First Thread - 2\n",
      "Thread-30 - 2\n",
      "First Thread - 3\n",
      "Thread-30 - 3\n",
      "First Thread - 4\n",
      "Thread-30 - 4\n",
      "First Thread - 5\n",
      "Thread-30 - 5\n"
     ]
    },
    {
     "data": {
      "text/plain": [
       "defined \u001b[32mclass\u001b[39m \u001b[36mThreadExample\u001b[39m\n",
       "\u001b[36mt1\u001b[39m: \u001b[32mwrapper\u001b[39m.\u001b[32mwrapper\u001b[39m.\u001b[32mThreadExample\u001b[39m = Thread[First Thread,5,]\n",
       "\u001b[36mt2\u001b[39m: \u001b[32mwrapper\u001b[39m.\u001b[32mwrapper\u001b[39m.\u001b[32mThreadExample\u001b[39m = Thread[Thread-30,5,]"
      ]
     },
     "execution_count": 8,
     "metadata": {},
     "output_type": "execute_result"
    }
   ],
   "source": [
    "class ThreadExample extends Thread{\n",
    "    override def run(){\n",
    "        for(i <- 0 to 5){\n",
    "            println(this.getName() + \" - \" + i)\n",
    "            Thread.sleep(300)\n",
    "        }\n",
    "    }\n",
    "}\n",
    "\n",
    "var t1 = new ThreadExample()\n",
    "var t2 = new ThreadExample()\n",
    "t1.setName(\"First Thread\")\n",
    "t1.start()\n",
    "t2.start()\n",
    "t1.join()\n",
    "t2.join()"
   ]
  },
  {
   "cell_type": "code",
   "execution_count": 11,
   "metadata": {},
   "outputs": [
    {
     "name": "stdout",
     "output_type": "stream",
     "text": [
      "First Thread\n",
      "Second Thread\n",
      "1\n",
      "10\n",
      "Second Thread\n",
      "10\n",
      "First Thread\n",
      "1\n",
      "Second Thread\n",
      "10\n",
      "First Thread\n",
      "1\n",
      "Second Thread\n",
      "First Thread\n",
      "1\n",
      "10\n",
      "Second Thread\n",
      "10\n",
      "First Thread\n",
      "1\n",
      "First Thread\n",
      "1\n",
      "Second Thread\n",
      "10\n"
     ]
    },
    {
     "data": {
      "text/plain": [
       "defined \u001b[32mclass\u001b[39m \u001b[36mThreadExample\u001b[39m\n",
       "\u001b[36mt1\u001b[39m: \u001b[32mwrapper\u001b[39m.\u001b[32mwrapper\u001b[39m.\u001b[32mThreadExample\u001b[39m = Thread[First Thread,1,]\n",
       "\u001b[36mt2\u001b[39m: \u001b[32mwrapper\u001b[39m.\u001b[32mwrapper\u001b[39m.\u001b[32mThreadExample\u001b[39m = Thread[Second Thread,10,]"
      ]
     },
     "execution_count": 11,
     "metadata": {},
     "output_type": "execute_result"
    }
   ],
   "source": [
    "class ThreadExample() extends Thread{  \n",
    "    override def run(){  \n",
    "        for(i<- 0 to 5){  \n",
    "            println(this.getName())  \n",
    "            println(this.getPriority())\n",
    "            Thread.sleep(500)\n",
    "        }\n",
    "    }\n",
    "}\n",
    "\n",
    "var t1 = new ThreadExample()  \n",
    "var t2 = new ThreadExample()  \n",
    "t1.setName(\"First Thread\")  \n",
    "t2.setName(\"Second Thread\")  \n",
    "t1.setPriority(Thread.MIN_PRIORITY)  \n",
    "t2.setPriority(Thread.MAX_PRIORITY)  \n",
    "t1.start()  \n",
    "t2.start()\n",
    "t1.join()\n",
    "t2.join()"
   ]
  },
  {
   "cell_type": "code",
   "execution_count": 13,
   "metadata": {},
   "outputs": [
    {
     "name": "stdout",
     "output_type": "stream",
     "text": [
      "0\n",
      "0\n",
      "1\n",
      "2\n",
      "1\n",
      "3\n",
      "4\n",
      "2\n",
      "5\n",
      "3\n",
      "4\n",
      "5\n"
     ]
    },
    {
     "data": {
      "text/plain": [
       "defined \u001b[32mclass\u001b[39m \u001b[36mThreadExample\u001b[39m\n",
       "\u001b[36mt1\u001b[39m: \u001b[32mwrapper\u001b[39m.\u001b[32mwrapper\u001b[39m.\u001b[32mThreadExample\u001b[39m = Thread[Thread-38,5,]"
      ]
     },
     "execution_count": 13,
     "metadata": {},
     "output_type": "execute_result"
    }
   ],
   "source": [
    "class ThreadExample() extends Thread{  \n",
    "    override def run(){  \n",
    "        for(i<- 0 to 5){  \n",
    "        println(i)              \n",
    "        Thread.sleep(500)  \n",
    "        }  \n",
    "    }  \n",
    "    \n",
    "    def task(){  \n",
    "        for(i<- 0 to 5){  \n",
    "            println(i)  \n",
    "            Thread.sleep(200)  \n",
    "        }  \n",
    "    }  \n",
    "}\n",
    "\n",
    "var t1 = new ThreadExample()  \n",
    "t1.start()  \n",
    "t1.task()\n",
    "t1.join()"
   ]
  },
  {
   "cell_type": "markdown",
   "metadata": {},
   "source": [
    "# Future"
   ]
  },
  {
   "cell_type": "code",
   "execution_count": null,
   "metadata": {},
   "outputs": [],
   "source": [
    "import scala.concurrent.Await\n",
    "import scala.concurrent.ExecutionContext.Implicits.global\n",
    "import scala.concurrent.Future\n",
    "import scala.concurrent.TimeoutException\n",
    "import scala.concurrent.duration.Duration\n",
    "import scala.io.Source\n",
    "\n",
    "\n",
    "  \n",
    "def readFile(file: String): StringBuilder = {\n",
    "    val ret = new StringBuilder\n",
    "\n",
    "    Source.fromFile(file).getLines() foreach { line =>\n",
    "      ret ++= (line + \"\\n\")\n",
    "    }\n",
    "    ret\n",
    "}\n",
    "    \n",
    "println(\"start\")\n",
    "    \n",
    "val time = System.currentTimeMillis()\n",
    "\n",
    "val future1 = Future { readFile(\"ufo_awesome_1.tsv\") }\n",
    "val future2 = Future { readFile(\"ufo_awesome_2.tsv\") }\n",
    "\n",
    "// you can use Await.ready instead\n",
    "val result = Await.result(Future.sequence(Seq(future1, future2)), Duration.Inf) \n",
    "\n",
    "println(s\"end and cost: ${System.currentTimeMillis() - time} ms\")"
   ]
  },
  {
   "cell_type": "code",
   "execution_count": null,
   "metadata": {
    "collapsed": true
   },
   "outputs": [],
   "source": [
    "\n",
    "def readFile(file: String): StringBuilder = {\n",
    "    val ret = new StringBuilder\n",
    "    \n",
    "    Source.fromFile(file).getLines() foreach { line =>\n",
    "      ret ++= (line + \"\\n\")\n",
    "    }\n",
    "    \n",
    "    ret\n",
    "}\n",
    "\n",
    "println(\"start\")\n",
    "    \n",
    "val time = System.currentTimeMillis()\n",
    "\n",
    "println(s\"${System.currentTimeMillis()} - create future\")\n",
    "val future = Future { readFile(\"ufo_awesome_1.tsv\"); println(s\"${System.currentTimeMillis()} - read complete\") }\n",
    "\n",
    "println(s\"${System.currentTimeMillis()} - register onSuccess\")\n",
    "\n",
    "future onSuccess {\n",
    "    case sb => println(s\"${System.currentTimeMillis()} - success\")\n",
    "}\n",
    "\n",
    "println(s\"${System.currentTimeMillis()} - await\")\n",
    "\n",
    "val result = Await.result(future, Duration.Inf)\n",
    "\n",
    "println(s\"end and cost: ${System.currentTimeMillis() - time} ms\")\n",
    "\n",
    "// result\n",
    "\n",
    "// start\n",
    "// 1436100618543 - create future\n",
    "// 1436100618816 - register onSuccess\n",
    "// 1436100618818 - await\n",
    "// 1436100620040 - read complete\n",
    "// end and cost: 1502 ms\n",
    "// 1436100620042 - success"
   ]
  },
  {
   "cell_type": "markdown",
   "metadata": {},
   "source": [
    "# onFailure"
   ]
  },
  {
   "cell_type": "code",
   "execution_count": 2,
   "metadata": {},
   "outputs": [
    {
     "name": "stdout",
     "output_type": "stream",
     "text": [
      "start\n",
      "1513313841893 - create future\n",
      "1513313841893 - register onSuccess\n",
      "1513313841894 - register onFailure\n",
      "1513313841894 - await\n"
     ]
    },
    {
     "ename": "",
     "evalue": "",
     "output_type": "error",
     "traceback": [
      "\u001b[31mjava.io.FileNotFoundException: ufo_awesome_3.tsv (No such file or directory)\u001b[39m",
      "  java.io.FileInputStream.open0(\u001b[32mNative Method\u001b[39m)",
      "  java.io.FileInputStream.open(\u001b[32mFileInputStream.java\u001b[39m:\u001b[32m195\u001b[39m)",
      "  java.io.FileInputStream.<init>(\u001b[32mFileInputStream.java\u001b[39m:\u001b[32m138\u001b[39m)",
      "  scala.io.Source$.fromFile(\u001b[32mSource.scala\u001b[39m:\u001b[32m91\u001b[39m)",
      "  scala.io.Source$.fromFile(\u001b[32mSource.scala\u001b[39m:\u001b[32m76\u001b[39m)",
      "  scala.io.Source$.fromFile(\u001b[32mSource.scala\u001b[39m:\u001b[32m54\u001b[39m)",
      "  $sess.cmd1Wrapper$Helper.readFile(\u001b[32mcmd1.sc\u001b[39m:\u001b[32m13\u001b[39m)",
      "  $sess.cmd1Wrapper$Helper$$anonfun$1.apply$mcV$sp(\u001b[32mcmd1.sc\u001b[39m:\u001b[32m27\u001b[39m)",
      "  $sess.cmd1Wrapper$Helper$$anonfun$1.apply(\u001b[32mcmd1.sc\u001b[39m:\u001b[32m27\u001b[39m)",
      "  $sess.cmd1Wrapper$Helper$$anonfun$1.apply(\u001b[32mcmd1.sc\u001b[39m:\u001b[32m27\u001b[39m)",
      "  scala.concurrent.impl.Future$PromiseCompletingRunnable.liftedTree1$1(\u001b[32mFuture.scala\u001b[39m:\u001b[32m24\u001b[39m)",
      "  scala.concurrent.impl.Future$PromiseCompletingRunnable.run(\u001b[32mFuture.scala\u001b[39m:\u001b[32m24\u001b[39m)",
      "  scala.concurrent.impl.ExecutionContextImpl$AdaptedForkJoinTask.exec(\u001b[32mExecutionContextImpl.scala\u001b[39m:\u001b[32m121\u001b[39m)",
      "  scala.concurrent.forkjoin.ForkJoinTask.doExec(\u001b[32mForkJoinTask.java\u001b[39m:\u001b[32m260\u001b[39m)",
      "  scala.concurrent.forkjoin.ForkJoinPool$WorkQueue.runTask(\u001b[32mForkJoinPool.java\u001b[39m:\u001b[32m1339\u001b[39m)",
      "  scala.concurrent.forkjoin.ForkJoinPool.runWorker(\u001b[32mForkJoinPool.java\u001b[39m:\u001b[32m1979\u001b[39m)",
      "  scala.concurrent.forkjoin.ForkJoinWorkerThread.run(\u001b[32mForkJoinWorkerThread.java\u001b[39m:\u001b[32m107\u001b[39m)"
     ]
    }
   ],
   "source": [
    "import scala.concurrent.Await\n",
    "import scala.concurrent.ExecutionContext.Implicits.global\n",
    "import scala.concurrent.Future\n",
    "import scala.concurrent.TimeoutException\n",
    "import scala.concurrent.duration.Duration\n",
    "import scala.io.Source\n",
    "import scala.util.control.NonFatal\n",
    "\n",
    "\n",
    "def readFile(file: String): StringBuilder = {\n",
    "    val ret = new StringBuilder\n",
    "    \n",
    "    Source.fromFile(file).getLines() foreach { line =>\n",
    "      ret ++= (line + \"\\n\")\n",
    "    }\n",
    "    \n",
    "    ret\n",
    "}\n",
    "\n",
    "println(\"start\")\n",
    "    \n",
    "val time = System.currentTimeMillis()    \n",
    "\n",
    "println(s\"${System.currentTimeMillis()} - create future\")\n",
    "\n",
    "/* ufo_awesome_3.tsv 不存在*/\n",
    "val future = Future { readFile(\"ufo_awesome_3.tsv\"); println(s\"${System.currentTimeMillis()} - read complete\") }\n",
    "\n",
    "println(s\"${System.currentTimeMillis()} - register onSuccess\")\n",
    "future onSuccess {\n",
    "    case sb => println(s\"${System.currentTimeMillis()} - success\")\n",
    "}\n",
    "\n",
    "println(s\"${System.currentTimeMillis()} - register onFailure\")\n",
    "\n",
    "// 當 Future 內的工作，有發生 Exception or Error 時 (也就是有 Throwable )。 onFailure 並不會做 catch 的動作\n",
    "future onFailure {\n",
    "    case ex: Exception => println(s\"${System.currentTimeMillis()} - failure\")\n",
    "}\n",
    "\n",
    "println(s\"${System.currentTimeMillis()} - await\")\n",
    "\n",
    "val result = Await.result(future, Duration.Inf)\n",
    "\n",
    "println(s\"end and cost: ${System.currentTimeMillis() - time} ms\")"
   ]
  },
  {
   "cell_type": "markdown",
   "metadata": {},
   "source": [
    "# onComplete"
   ]
  },
  {
   "cell_type": "code",
   "execution_count": 3,
   "metadata": {},
   "outputs": [
    {
     "name": "stdout",
     "output_type": "stream",
     "text": [
      "start\n",
      "1513314029442 - create future\n",
      "1513314029442 - register onComplete\n",
      "1513314029443 - await\n"
     ]
    },
    {
     "ename": "",
     "evalue": "",
     "output_type": "error",
     "traceback": [
      "\u001b[31mjava.io.FileNotFoundException: ufo_awesome_3.tsv (No such file or directory)\u001b[39m",
      "  java.io.FileInputStream.open0(\u001b[32mNative Method\u001b[39m)",
      "  java.io.FileInputStream.open(\u001b[32mFileInputStream.java\u001b[39m:\u001b[32m195\u001b[39m)",
      "  java.io.FileInputStream.<init>(\u001b[32mFileInputStream.java\u001b[39m:\u001b[32m138\u001b[39m)",
      "  scala.io.Source$.fromFile(\u001b[32mSource.scala\u001b[39m:\u001b[32m91\u001b[39m)",
      "  scala.io.Source$.fromFile(\u001b[32mSource.scala\u001b[39m:\u001b[32m76\u001b[39m)",
      "  scala.io.Source$.fromFile(\u001b[32mSource.scala\u001b[39m:\u001b[32m54\u001b[39m)",
      "  $sess.cmd2Wrapper$Helper.readFile(\u001b[32mcmd2.sc\u001b[39m:\u001b[32m14\u001b[39m)",
      "  $sess.cmd2Wrapper$Helper$$anonfun$1.apply$mcV$sp(\u001b[32mcmd2.sc\u001b[39m:\u001b[32m28\u001b[39m)",
      "  $sess.cmd2Wrapper$Helper$$anonfun$1.apply(\u001b[32mcmd2.sc\u001b[39m:\u001b[32m28\u001b[39m)",
      "  $sess.cmd2Wrapper$Helper$$anonfun$1.apply(\u001b[32mcmd2.sc\u001b[39m:\u001b[32m28\u001b[39m)",
      "  scala.concurrent.impl.Future$PromiseCompletingRunnable.liftedTree1$1(\u001b[32mFuture.scala\u001b[39m:\u001b[32m24\u001b[39m)",
      "  scala.concurrent.impl.Future$PromiseCompletingRunnable.run(\u001b[32mFuture.scala\u001b[39m:\u001b[32m24\u001b[39m)",
      "  scala.concurrent.impl.ExecutionContextImpl$AdaptedForkJoinTask.exec(\u001b[32mExecutionContextImpl.scala\u001b[39m:\u001b[32m121\u001b[39m)",
      "  scala.concurrent.forkjoin.ForkJoinTask.doExec(\u001b[32mForkJoinTask.java\u001b[39m:\u001b[32m260\u001b[39m)",
      "  scala.concurrent.forkjoin.ForkJoinPool$WorkQueue.runTask(\u001b[32mForkJoinPool.java\u001b[39m:\u001b[32m1339\u001b[39m)",
      "  scala.concurrent.forkjoin.ForkJoinPool.runWorker(\u001b[32mForkJoinPool.java\u001b[39m:\u001b[32m1979\u001b[39m)",
      "  scala.concurrent.forkjoin.ForkJoinWorkerThread.run(\u001b[32mForkJoinWorkerThread.java\u001b[39m:\u001b[32m107\u001b[39m)"
     ]
    }
   ],
   "source": [
    "import scala.concurrent.Await\n",
    "import scala.concurrent.ExecutionContext.Implicits.global\n",
    "import scala.concurrent.Future\n",
    "import scala.concurrent.TimeoutException\n",
    "import scala.concurrent.duration.Duration\n",
    "import scala.io.Source\n",
    "import scala.util.control.NonFatal\n",
    "import scala.util.Success\n",
    "import scala.util.Failure\n",
    "\n",
    "def readFile(file: String): StringBuilder = {\n",
    "    val ret = new StringBuilder\n",
    "    \n",
    "    Source.fromFile(file).getLines() foreach { line =>\n",
    "      ret ++= (line + \"\\n\")\n",
    "    }\n",
    "    \n",
    "    ret\n",
    "}\n",
    "\n",
    "println(\"start\")\n",
    "    \n",
    "val time = System.currentTimeMillis()\n",
    "\n",
    "println(s\"${System.currentTimeMillis()} - create future\")\n",
    "\n",
    "/* ufo_awesome_3.tsv 不存在*/\n",
    "val future = Future { readFile(\"ufo_awesome_3.tsv\"); println(s\"${System.currentTimeMillis()} - read complete\") }\n",
    "\n",
    "println(s\"${System.currentTimeMillis()} - register onComplete\")\n",
    "\n",
    "\n",
    "future onComplete {\n",
    "  case Success(sb) => println(s\"${System.currentTimeMillis()} - onComplete - success\")\n",
    "  case Failure(error) => println(s\"${System.currentTimeMillis()} - onComplete - failure ${error.toString()}\")\n",
    "}\n",
    "\n",
    "println(s\"${System.currentTimeMillis()} - await\")\n",
    "\n",
    "val result = Await.result(future, Duration.Inf)\n",
    "\n",
    "println(s\"end and cost: ${System.currentTimeMillis() - time} ms\")"
   ]
  },
  {
   "cell_type": "markdown",
   "metadata": {},
   "source": [
    "# multi Callback"
   ]
  },
  {
   "cell_type": "code",
   "execution_count": 4,
   "metadata": {},
   "outputs": [
    {
     "name": "stdout",
     "output_type": "stream",
     "text": [
      "start\n",
      "1513314228070 - create future\n",
      "1513314228070 - register onSuccess\n",
      "1513314228070 - register onFailure\n",
      "1513314228076 - register onComplete\n",
      "1513314228076 - await\n"
     ]
    },
    {
     "ename": "",
     "evalue": "",
     "output_type": "error",
     "traceback": [
      "\u001b[31mjava.io.FileNotFoundException: ufo_awesome_3.tsv (No such file or directory)\u001b[39m",
      "  java.io.FileInputStream.open0(\u001b[32mNative Method\u001b[39m)",
      "  java.io.FileInputStream.open(\u001b[32mFileInputStream.java\u001b[39m:\u001b[32m195\u001b[39m)",
      "  java.io.FileInputStream.<init>(\u001b[32mFileInputStream.java\u001b[39m:\u001b[32m138\u001b[39m)",
      "  scala.io.Source$.fromFile(\u001b[32mSource.scala\u001b[39m:\u001b[32m91\u001b[39m)",
      "  scala.io.Source$.fromFile(\u001b[32mSource.scala\u001b[39m:\u001b[32m76\u001b[39m)",
      "  scala.io.Source$.fromFile(\u001b[32mSource.scala\u001b[39m:\u001b[32m54\u001b[39m)",
      "  $sess.cmd3Wrapper$Helper.readFile(\u001b[32mcmd3.sc\u001b[39m:\u001b[32m14\u001b[39m)",
      "  $sess.cmd3Wrapper$Helper$$anonfun$1.apply$mcV$sp(\u001b[32mcmd3.sc\u001b[39m:\u001b[32m37\u001b[39m)",
      "  $sess.cmd3Wrapper$Helper$$anonfun$1.apply(\u001b[32mcmd3.sc\u001b[39m:\u001b[32m37\u001b[39m)",
      "  $sess.cmd3Wrapper$Helper$$anonfun$1.apply(\u001b[32mcmd3.sc\u001b[39m:\u001b[32m37\u001b[39m)",
      "  scala.concurrent.impl.Future$PromiseCompletingRunnable.liftedTree1$1(\u001b[32mFuture.scala\u001b[39m:\u001b[32m24\u001b[39m)",
      "  scala.concurrent.impl.Future$PromiseCompletingRunnable.run(\u001b[32mFuture.scala\u001b[39m:\u001b[32m24\u001b[39m)",
      "  scala.concurrent.impl.ExecutionContextImpl$AdaptedForkJoinTask.exec(\u001b[32mExecutionContextImpl.scala\u001b[39m:\u001b[32m121\u001b[39m)",
      "  scala.concurrent.forkjoin.ForkJoinTask.doExec(\u001b[32mForkJoinTask.java\u001b[39m:\u001b[32m260\u001b[39m)",
      "  scala.concurrent.forkjoin.ForkJoinPool$WorkQueue.runTask(\u001b[32mForkJoinPool.java\u001b[39m:\u001b[32m1339\u001b[39m)",
      "  scala.concurrent.forkjoin.ForkJoinPool.runWorker(\u001b[32mForkJoinPool.java\u001b[39m:\u001b[32m1979\u001b[39m)",
      "  scala.concurrent.forkjoin.ForkJoinWorkerThread.run(\u001b[32mForkJoinWorkerThread.java\u001b[39m:\u001b[32m107\u001b[39m)"
     ]
    }
   ],
   "source": [
    "import scala.concurrent.Await\n",
    "import scala.concurrent.ExecutionContext.Implicits.global\n",
    "import scala.concurrent.Future\n",
    "import scala.concurrent.TimeoutException\n",
    "import scala.concurrent.duration.Duration\n",
    "import scala.io.Source\n",
    "import scala.util.control.NonFatal\n",
    "import scala.util.Success\n",
    "import scala.util.Failure\n",
    "\n",
    "def readFile(file: String): StringBuilder = {\n",
    "    val ret = new StringBuilder\n",
    "    \n",
    "    Source.fromFile(file).getLines() foreach { line =>\n",
    "      ret ++= (line + \"\\r\\n\")\n",
    "    }\n",
    "    \n",
    "    ret\n",
    "}\n",
    "\n",
    "println(\"start\")\n",
    "    \n",
    "val time = System.currentTimeMillis()\n",
    "\n",
    "/*\n",
    "val future1 = Future { readFile(\"ufo_awesome_1.tsv\") }\n",
    "val future2 = Future { readFile(\"ufo_awesome_2.tsv\") }\n",
    "\n",
    "val result = Await.result(Future.sequence(Seq(future1, future2)), Duration.Inf)\n",
    "*/\n",
    "\n",
    "\n",
    "println(s\"${System.currentTimeMillis()} - create future\")\n",
    "//val future = Future { readFile(\"ufo_awesome_1.tsv\"); println(s\"${System.currentTimeMillis()} - read complete\") }\n",
    "\n",
    "/* ufo_awesome_3.tsv 不存在*/\n",
    "val future = Future { readFile(\"ufo_awesome_3.tsv\"); println(s\"${System.currentTimeMillis()} - read complete\") }\n",
    "\n",
    "\n",
    "println(s\"${System.currentTimeMillis()} - register onSuccess\")\n",
    "future onSuccess {\n",
    "    case sb => println(s\"${System.currentTimeMillis()} - success\")\n",
    "}\n",
    "\n",
    "println(s\"${System.currentTimeMillis()} - register onFailure\")\n",
    "future onFailure {\n",
    "    case ex: Exception => println(s\"${System.currentTimeMillis()} - failure\")\n",
    "}\n",
    "\n",
    "println(s\"${System.currentTimeMillis()} - register onComplete\")\n",
    "future onComplete {\n",
    "  case Success(sb) => println(s\"${System.currentTimeMillis()} - onComplete - success\")\n",
    "  case Failure(error) => println(s\"${System.currentTimeMillis()} - onComplete - failure ${error.toString()}\")\n",
    "}\n",
    "\n",
    "println(s\"${System.currentTimeMillis()} - await\")\n",
    "\n",
    "val result = Await.result(future, Duration.Inf)\n",
    "\n",
    "println(s\"end and cost: ${System.currentTimeMillis() - time} ms\")"
   ]
  },
  {
   "cell_type": "code",
   "execution_count": null,
   "metadata": {
    "collapsed": true
   },
   "outputs": [],
   "source": []
  }
 ],
 "metadata": {
  "kernelspec": {
   "display_name": "Scala",
   "language": "scala",
   "name": "scala"
  },
  "language_info": {
   "codemirror_mode": "text/x-scala",
   "file_extension": ".scala",
   "mimetype": "text/x-scala",
   "name": "scala211",
   "nbconvert_exporter": "script",
   "pygments_lexer": "scala",
   "version": "2.11.11"
  }
 },
 "nbformat": 4,
 "nbformat_minor": 2
}
